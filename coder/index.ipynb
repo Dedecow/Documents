{
 "cells": [
  {
   "cell_type": "code",
   "execution_count": null,
   "metadata": {},
   "outputs": [],
   "source": [
    "import pandas as pd\n",
    "import numpy as np\n",
    "import sqlite3\n",
    "from datetime import datetime\n",
    "import requests\n",
    "from tqdm import tqdm"
   ]
  },
  {
   "cell_type": "code",
   "execution_count": null,
   "metadata": {},
   "outputs": [
    {
     "name": "stdout",
     "output_type": "stream",
     "text": [
      "Erro ao conectar com a API: ('Connection broken: IncompleteRead(32534 bytes read, 138644 more expected)', IncompleteRead(32534 bytes read, 138644 more expected))\n",
      "Não foi possível obter os dados da API.\n"
     ]
    }
   ],
   "source": [
    "def alerta(url):\n",
    "    try:\n",
    "        response = requests.get(url)\n",
    "        if response.status_code == 200:\n",
    "            return response.status_code\n",
    "        else:\n",
    "            return None\n",
    "    except requests.exceptions.RequestException as e:\n",
    "        print(f\"Erro ao acessar a URL: {e}\")\n",
    "        return None\n",
    "\n",
    "# Exemplo de uso\n",
    "url = \"https://restfulcountries.com/api/v1\"\n",
    "status_code = alerta(url)\n",
    "if status_code is None:\n",
    "    print(\"O site está indisponível.\")"
   ]
  },
  {
   "cell_type": "code",
   "execution_count": null,
   "metadata": {},
   "outputs": [
    {
     "name": "stdout",
     "output_type": "stream",
     "text": [
      "Falha ao acessar dados do site.\n"
     ]
    }
   ],
   "source": [
    "def obter_dados_da_api(url):\n",
    "    try:\n",
    "        response = requests.get(url)\n",
    "        response.raise_for_status()  # Raise an exception for HTTP errors\n",
    "        return response.json()\n",
    "    except requests.exceptions.RequestException as e:\n",
    "        print(f\"Erro ao acessar a API: {e}\")\n",
    "        return None"
   ]
  },
  {
   "cell_type": "code",
   "execution_count": null,
   "metadata": {},
   "outputs": [],
   "source": [
    "def criar_dataframe(data):\n",
    "    if data is None:\n",
    "        return None\n",
    "    \n",
    "    # Extrair informações básicas dos países\n",
    "    paises = []\n",
    "    for pais in data['data']:\n",
    "        pais_info = {\n",
    "            'Nome Comum': pais['name'],\n",
    "            'Nome Oficial': pais['full_name'],\n",
    "            'Código Alpha-2': pais['iso2'],\n",
    "            'Região': None,  # Não disponível na API\n",
    "            'Latitude': None,  # Não disponível na API\n",
    "            'Longitude': None,  # Não disponível na API\n",
    "            'Capital': pais['capital']\n",
    "        }\n",
    "        paises.append(pais_info)\n",
    "    \n",
    "    return pd.DataFrame(paises)"
   ]
  },
  {
   "cell_type": "code",
   "execution_count": null,
   "metadata": {},
   "outputs": [],
   "source": [
    "def criar_dataframe_populacao(data):\n",
    "    if data is None:\n",
    "        return None\n",
    "    \n",
    "    # Extrair informações demográficas e geográficas dos países\n",
    "    paises = []\n",
    "    for pais in data['data']:\n",
    "        pais_info = {\n",
    "            'Nome Comum': pais['name'],\n",
    "            'População': pais['population'],\n",
    "            'Área': pais['size'],\n",
    "            'Continente': pais['continent'],\n",
    "            'País sem Litoral': None  # Não disponível na API\n",
    "        }\n",
    "        paises.append(pais_info)\n",
    "    \n",
    "    return pd.DataFrame(paises)"
   ]
  },
  {
   "cell_type": "code",
   "execution_count": null,
   "metadata": {},
   "outputs": [],
   "source": [
    "def criar_dataframe_membro_da_onu(data):\n",
    "    if data is None:\n",
    "        return None\n",
    "    \n",
    "    # Extrair informações sobre independência e afiliação à ONU dos países\n",
    "    paises = []\n",
    "    for pais in data['data']:\n",
    "        pais_info = {\n",
    "            'Nome Comum': pais['name'],\n",
    "            'Independente': None,  # Não disponível na API\n",
    "            'Membro da ONU': None,  # Não disponível na API\n",
    "            'Status': None  # Não disponível na API\n",
    "        }\n",
    "        paises.append(pais_info)\n",
    "    \n",
    "    return pd.DataFrame(paises)"
   ]
  },
  {
   "cell_type": "code",
   "execution_count": null,
   "metadata": {},
   "outputs": [],
   "source": [
    "# Obter dados da API\n",
    "url = \"https://restfulcountries.com/api/v1\"\n",
    "data = obter_dados_da_api(url)\n",
    "\n",
    "# Criar DataFrames\n",
    "df_paises = criar_dataframe(data)\n",
    "df_populacao = criar_dataframe_populacao(data)\n",
    "df_membro_onu = criar_dataframe_membro_da_onu(data)\n",
    "\n",
    "# Conectar ao banco de dados SQLite\n",
    "conn = sqlite3.connect('paises.db')\n",
    "\n",
    "# Salvar DataFrames no banco de dados\n",
    "df_paises.to_sql('paises', conn, if_exists='replace', index=False)\n",
    "df_populacao.to_sql('populacao', conn, if_exists='replace', index=False)\n",
    "df_membro_onu.to_sql('membro_onu', conn, if_exists='replace', index=False)\n",
    "\n",
    "# Fechar a conexão\n",
    "conn.close()"
   ]
  }
 ],
 "metadata": {
  "kernelspec": {
   "display_name": "Python 3",
   "language": "python",
   "name": "python3"
  },
  "language_info": {
   "codemirror_mode": {
    "name": "ipython",
    "version": 3
   },
   "file_extension": ".py",
   "mimetype": "text/x-python",
   "name": "python",
   "nbconvert_exporter": "python",
   "pygments_lexer": "ipython3",
   "version": "3.12.3"
  }
 },
 "nbformat": 4,
 "nbformat_minor": 2
}
