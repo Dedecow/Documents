{
 "cells": [
  {
   "cell_type": "code",
   "execution_count": 25,
   "metadata": {},
   "outputs": [],
   "source": [
    "import pandas as pd\n",
    "import numpy as np\n",
    "import sqlite3\n",
    "from datetime import datetime\n",
    "import requests\n",
    "from tqdm import tqdm"
   ]
  },
  {
   "cell_type": "code",
   "execution_count": 33,
   "metadata": {},
   "outputs": [
    {
     "name": "stdout",
     "output_type": "stream",
     "text": [
      "O site está indisponível.\n"
     ]
    }
   ],
   "source": [
    "def alerta(url):\n",
    "    try:\n",
    "        response = requests.get(url)\n",
    "        if response.status_code == 200:\n",
    "            return response.status_code\n",
    "        else:\n",
    "            return None\n",
    "    except requests.exceptions.RequestException as e:\n",
    "        print(f\"Erro ao acessar a URL: {e}\")\n",
    "        return None\n",
    "\n",
    "url = \"https://restfulcountries.com/api/v1/countries/all\"\n",
    "status_code = alerta(url)\n",
    "if status_code is None:\n",
    "    print(\"O site está indisponível.\")"
   ]
  },
  {
   "cell_type": "code",
   "execution_count": 27,
   "metadata": {},
   "outputs": [],
   "source": [
    "def obter_dados_da_api(url):\n",
    "    try:\n",
    "        response = requests.get(url)\n",
    "        return response.json()\n",
    "    except requests.exceptions.RequestException as e:\n",
    "        print(f\"Erro ao acessar a API: {e}\")\n",
    "        return None"
   ]
  },
  {
   "cell_type": "code",
   "execution_count": 28,
   "metadata": {},
   "outputs": [],
   "source": [
    "def criar_dataframe(data):\n",
    "    if data is None:\n",
    "        return None\n",
    "    \n",
    "    paises = []\n",
    "    for pais in data['data']:\n",
    "        pais_info = {\n",
    "            'Nome Comum': pais['name'],\n",
    "            'Nome Oficial': pais['full_name'],\n",
    "            'Código Alpha-2': pais['iso2'],\n",
    "            'Capital': pais['capital']\n",
    "        }\n",
    "        paises.append(pais_info)\n",
    "    \n",
    "    return pd.DataFrame(paises)\n"
   ]
  },
  {
   "cell_type": "code",
   "execution_count": 29,
   "metadata": {},
   "outputs": [],
   "source": [
    "\n",
    "def criar_dataframe_populacao(data):\n",
    "    if data is None:\n",
    "        return None\n",
    "    \n",
    "    paises = []\n",
    "    for pais in data['data']:\n",
    "        pais_info = {\n",
    "            'Nome Comum': pais['name'],\n",
    "            'População': pais['covid19']['total_case'],  # Ajuste aqui\n",
    "            'Área': pais['size'],\n",
    "            'Continente': pais['continent']\n",
    "        }\n",
    "        paises.append(pais_info)\n",
    "    \n",
    "    return pd.DataFrame(paises)\n"
   ]
  },
  {
   "cell_type": "code",
   "execution_count": 30,
   "metadata": {},
   "outputs": [],
   "source": [
    "\n",
    "def criar_dataframe_membro_da_onu(data):\n",
    "    if data is None:\n",
    "        return None\n",
    "    \n",
    "    # Ajuste aqui para criar um DataFrame com informações disponíveis na API\n",
    "    paises = []\n",
    "    for pais in data['data']:\n",
    "        pais_info = {\n",
    "            'Nome Comum': pais['name'],\n",
    "            'Independente': None,  # Não disponível na API\n",
    "            'Membro da ONU': None,  # Não disponível na API\n",
    "            'Status': None  # Não disponível na API\n",
    "        }\n",
    "        paises.append(pais_info)\n",
    "    \n",
    "    return pd.DataFrame(paises)"
   ]
  },
  {
   "cell_type": "code",
   "execution_count": 31,
   "metadata": {},
   "outputs": [
    {
     "ename": "KeyError",
     "evalue": "'data'",
     "output_type": "error",
     "traceback": [
      "\u001b[31m---------------------------------------------------------------------------\u001b[39m",
      "\u001b[31mKeyError\u001b[39m                                  Traceback (most recent call last)",
      "\u001b[36mCell\u001b[39m\u001b[36m \u001b[39m\u001b[32mIn[31]\u001b[39m\u001b[32m, line 6\u001b[39m\n\u001b[32m      3\u001b[39m data = obter_dados_da_api(url)\n\u001b[32m      5\u001b[39m \u001b[38;5;66;03m# Criar DataFrames\u001b[39;00m\n\u001b[32m----> \u001b[39m\u001b[32m6\u001b[39m df_paises = \u001b[43mcriar_dataframe\u001b[49m\u001b[43m(\u001b[49m\u001b[43mdata\u001b[49m\u001b[43m)\u001b[49m\n\u001b[32m      7\u001b[39m df_populacao = criar_dataframe_populacao(data)\n\u001b[32m      8\u001b[39m df_membro_onu = criar_dataframe_membro_da_onu(data)\n",
      "\u001b[36mCell\u001b[39m\u001b[36m \u001b[39m\u001b[32mIn[28]\u001b[39m\u001b[32m, line 6\u001b[39m, in \u001b[36mcriar_dataframe\u001b[39m\u001b[34m(data)\u001b[39m\n\u001b[32m      3\u001b[39m     \u001b[38;5;28;01mreturn\u001b[39;00m \u001b[38;5;28;01mNone\u001b[39;00m\n\u001b[32m      5\u001b[39m paises = []\n\u001b[32m----> \u001b[39m\u001b[32m6\u001b[39m \u001b[38;5;28;01mfor\u001b[39;00m pais \u001b[38;5;129;01min\u001b[39;00m \u001b[43mdata\u001b[49m\u001b[43m[\u001b[49m\u001b[33;43m'\u001b[39;49m\u001b[33;43mdata\u001b[39;49m\u001b[33;43m'\u001b[39;49m\u001b[43m]\u001b[49m:\n\u001b[32m      7\u001b[39m     pais_info = {\n\u001b[32m      8\u001b[39m         \u001b[33m'\u001b[39m\u001b[33mNome Comum\u001b[39m\u001b[33m'\u001b[39m: pais[\u001b[33m'\u001b[39m\u001b[33mname\u001b[39m\u001b[33m'\u001b[39m],\n\u001b[32m      9\u001b[39m         \u001b[33m'\u001b[39m\u001b[33mNome Oficial\u001b[39m\u001b[33m'\u001b[39m: pais[\u001b[33m'\u001b[39m\u001b[33mfull_name\u001b[39m\u001b[33m'\u001b[39m],\n\u001b[32m     10\u001b[39m         \u001b[33m'\u001b[39m\u001b[33mCódigo Alpha-2\u001b[39m\u001b[33m'\u001b[39m: pais[\u001b[33m'\u001b[39m\u001b[33miso2\u001b[39m\u001b[33m'\u001b[39m],\n\u001b[32m     11\u001b[39m         \u001b[33m'\u001b[39m\u001b[33mCapital\u001b[39m\u001b[33m'\u001b[39m: pais[\u001b[33m'\u001b[39m\u001b[33mcapital\u001b[39m\u001b[33m'\u001b[39m]\n\u001b[32m     12\u001b[39m     }\n\u001b[32m     13\u001b[39m     paises.append(pais_info)\n",
      "\u001b[31mKeyError\u001b[39m: 'data'"
     ]
    }
   ],
   "source": [
    "# Obter dados da API\n",
    "url = \"https://restfulcountries.com/api/v1\"\n",
    "data = obter_dados_da_api(url)\n",
    "\n",
    "# Criar DataFrames\n",
    "df_paises = criar_dataframe(data)\n",
    "df_populacao = criar_dataframe_populacao(data)\n",
    "df_membro_onu = criar_dataframe_membro_da_onu(data)\n",
    "\n",
    "# Conectar ao banco de dados SQLite\n",
    "conn = sqlite3.connect('paises.db')\n",
    "\n",
    "# Salvar DataFrames no banco de dados\n",
    "df_paises.to_sql('paises', conn, if_exists='replace', index=False)\n",
    "df_populacao.to_sql('populacao', conn, if_exists='replace', index=False)\n",
    "df_membro_onu.to_sql('membro_onu', conn, if_exists='replace', index=False)\n",
    "\n",
    "# Fechar a conexão\n",
    "conn.close()"
   ]
  }
 ],
 "metadata": {
  "kernelspec": {
   "display_name": "Python 3",
   "language": "python",
   "name": "python3"
  },
  "language_info": {
   "codemirror_mode": {
    "name": "ipython",
    "version": 3
   },
   "file_extension": ".py",
   "mimetype": "text/x-python",
   "name": "python",
   "nbconvert_exporter": "python",
   "pygments_lexer": "ipython3",
   "version": "3.11.9"
  }
 },
 "nbformat": 4,
 "nbformat_minor": 2
}
