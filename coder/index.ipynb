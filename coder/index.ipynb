{
 "cells": [
  {
   "cell_type": "code",
   "execution_count": 13,
   "metadata": {},
   "outputs": [],
   "source": [
    "import requests\n",
    "import pandas as pd\n"
   ]
  },
  {
   "cell_type": "code",
   "execution_count": 14,
   "metadata": {},
   "outputs": [],
   "source": [
    "url = \"https://restcountries.com/v3.1/all\"\n"
   ]
  },
  {
   "cell_type": "code",
   "execution_count": 15,
   "metadata": {},
   "outputs": [],
   "source": [
    "def tentar_conexao(url):\n",
    "\n",
    "    try:\n",
    "        response = requests.get(url)\n",
    "        response.raise_for_status()\n",
    "        return response.json()\n",
    "    except requests.exceptions.RequestException:\n",
    "        return None"
   ]
  },
  {
   "cell_type": "code",
   "execution_count": 16,
   "metadata": {},
   "outputs": [
    {
     "name": "stdout",
     "output_type": "stream",
     "text": [
      "Falha ao acessar dados do site.\n"
     ]
    }
   ],
   "source": [
    "\n",
    "data = tentar_conexao(url)\n",
    "if data is not None:\n",
    "    print(\"Dados recebidos:\")\n",
    "    print(data[0])\n",
    "else:\n",
    "    print(\"Falha ao acessar dados do site.\")\n",
    "\n"
   ]
  },
  {
   "cell_type": "code",
   "execution_count": 17,
   "metadata": {},
   "outputs": [
    {
     "name": "stdout",
     "output_type": "stream",
     "text": [
      "Falha ao acessar dados do site.\n"
     ]
    }
   ],
   "source": [
    "\n",
    "if data is not None:\n",
    "    table1 = pd.DataFrame([{\n",
    "    \"Nome Comum\": country[\"name\"][\"common\"],\n",
    "    \"Nome Oficial\": country[\"name\"][\"official\"],\n",
    "    \"Código Alpha-2\": country[\"cca2\"],\n",
    "    \"Região\": country[\"region\"],\n",
    "    \"Latitude\": country[\"latlng\"][0] if country[\"latlng\"] else None,\n",
    "    \"Longitude\": country[\"latlng\"][1] if country[\"latlng\"] else None,\n",
    "    \"Capital\": country[\"capital\"][0] if country.get(\"capital\") else None\n",
    "    } for country in data])\n",
    "    print(table1)\n",
    "else:\n",
    "    print(\"Falha ao acessar dados do site.\")\n"
   ]
  },
  {
   "cell_type": "code",
   "execution_count": 18,
   "metadata": {},
   "outputs": [
    {
     "name": "stdout",
     "output_type": "stream",
     "text": [
      "Falha ao acessar dados do site.\n"
     ]
    }
   ],
   "source": [
    "if data is not None:\n",
    "    table2 = pd.DataFrame([{\n",
    "    \"Nome Comum\": country[\"name\"][\"common\"],\n",
    "    \"População\": country[\"population\"],\n",
    "    \"Área\": country[\"area\"],\n",
    "    \"Continente\": country[\"continents\"][0],\n",
    "    \"País sem litoral\": country[\"landlocked\"]\n",
    "} for country in data])\n",
    "    print(table2)\n",
    "else:\n",
    "    print(\"Falha ao acessar dados do site.\")\n"
   ]
  },
  {
   "cell_type": "code",
   "execution_count": 19,
   "metadata": {},
   "outputs": [
    {
     "name": "stdout",
     "output_type": "stream",
     "text": [
      "Falha ao acessar dados do site.\n"
     ]
    }
   ],
   "source": [
    "if data is not None:\n",
    "    table3 = pd.DataFrame([{\n",
    "    \"Nome Comum\": country[\"name\"][\"common\"],\n",
    "    \"Independente\": country.get(\"independent\"),\n",
    "    \"Membro da ONU\": country.get(\"unMember\"),\n",
    "    \"Status\": country.get(\"status\")\n",
    "} for country in data])\n",
    "    print(table3)\n",
    "else:\n",
    "    print(\"Falha ao acessar dados do site.\")\n"
   ]
  }
 ],
 "metadata": {
  "kernelspec": {
   "display_name": "Python 3",
   "language": "python",
   "name": "python3"
  },
  "language_info": {
   "codemirror_mode": {
    "name": "ipython",
    "version": 3
   },
   "file_extension": ".py",
   "mimetype": "text/x-python",
   "name": "python",
   "nbconvert_exporter": "python",
   "pygments_lexer": "ipython3",
   "version": "3.12.3"
  }
 },
 "nbformat": 4,
 "nbformat_minor": 2
}
