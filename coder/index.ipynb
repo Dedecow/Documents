{
 "cells": [
  {
   "cell_type": "code",
   "execution_count": 5,
   "metadata": {},
   "outputs": [],
   "source": [
    "import requests\n",
    "import pandas as pd\n"
   ]
  },
  {
   "cell_type": "code",
   "execution_count": 9,
   "metadata": {},
   "outputs": [
    {
     "name": "stdout",
     "output_type": "stream",
     "text": [
      "Erro ao conectar com a API: ('Connection broken: IncompleteRead(32534 bytes read, 138644 more expected)', IncompleteRead(32534 bytes read, 138644 more expected))\n",
      "Não foi possível obter os dados da API.\n"
     ]
    }
   ],
   "source": [
    "import requests\n",
    "\n",
    "def obter_dados_da_api(url):\n",
    "    \n",
    "    try:\n",
    "        response = requests.get(url, timeout=10)\n",
    "        response.raise_for_status()\n",
    "        return response.json()\n",
    "    except requests.exceptions.RequestException as e:\n",
    "        print(f\"Erro ao conectar com a API: {e}\")\n",
    "        return None\n",
    "\n",
    "url = \"https://restcountries.com/v3.1/all\"\n",
    "dados = obter_dados_da_api(url)\n",
    "\n",
    "if dados:\n",
    "    print(\"Conexão bem-sucedida! Dados obtidos:\")\n",
    "    print(dados)\n",
    "else:\n",
    "    print(\"Não foi possível obter os dados da API.\")\n"
   ]
  },
  {
   "cell_type": "code",
   "execution_count": 10,
   "metadata": {},
   "outputs": [
    {
     "name": "stdout",
     "output_type": "stream",
     "text": [
      "Falha ao acessar dados do site.\n"
     ]
    }
   ],
   "source": [
    "if data is not None:\n",
    "    print(\"Dados recebidos:\")\n",
    "    print(data[0])\n",
    "else:\n",
    "    print(\"Falha ao acessar dados do site.\")\n",
    "\n"
   ]
  },
  {
   "cell_type": "code",
   "execution_count": 11,
   "metadata": {},
   "outputs": [],
   "source": [
    "def criar_dataframe(data):\n",
    "    \n",
    "    if data is not None:\n",
    "        return pd.DataFrame([{\n",
    "            \"Nome Comum\": country[\"name\"][\"common\"],\n",
    "            \"Nome Oficial\": country[\"name\"][\"official\"],\n",
    "            \"Código Alpha-2\": country[\"cca2\"],\n",
    "            \"Região\": country[\"region\"],\n",
    "            \"Latitude\": country[\"latlng\"][0] if country.get(\"latlng\") else None,\n",
    "            \"Longitude\": country[\"latlng\"][1] if country.get(\"latlng\") else None,\n",
    "            \"Capital\": country[\"capital\"][0] if country.get(\"capital\") else None\n",
    "        } for country in data])\n",
    "    else:\n",
    "        print(\"Falha ao acessar dados do site.\")\n",
    "        return None"
   ]
  },
  {
   "cell_type": "code",
   "execution_count": 12,
   "metadata": {},
   "outputs": [],
   "source": [
    "def criar_dataframe_populacao(data):\n",
    "   \n",
    "    if data is not None:\n",
    "        return pd.DataFrame([{\n",
    "            \"Nome Comum\": country[\"name\"][\"common\"],\n",
    "            \"População\": country[\"population\"],\n",
    "            \"Área\": country[\"area\"],\n",
    "            \"Continente\": country[\"continents\"][0] if country.get(\"continents\") else None,\n",
    "            \"País sem litoral\": country[\"landlocked\"]\n",
    "        } for country in data])\n",
    "    else:\n",
    "        print(\"Falha ao acessar dados do site.\")\n",
    "        return None"
   ]
  },
  {
   "cell_type": "code",
   "execution_count": 13,
   "metadata": {},
   "outputs": [],
   "source": [
    "def criar_dataframe_membro_da_onu(data):\n",
    "\n",
    "    if data is not None:\n",
    "        return pd.DataFrame([{\n",
    "            \"Nome Comum\": country[\"name\"][\"common\"],\n",
    "            \"Independente\": country.get(\"independent\"),\n",
    "            \"Membro da ONU\": country.get(\"unMember\"),\n",
    "            \"Status\": country.get(\"status\")\n",
    "        } for country in data])\n",
    "    else:\n",
    "        print(\"Falha ao acessar dados do site.\")\n",
    "        return None"
   ]
  }
 ],
 "metadata": {
  "kernelspec": {
   "display_name": "Python 3",
   "language": "python",
   "name": "python3"
  },
  "language_info": {
   "codemirror_mode": {
    "name": "ipython",
    "version": 3
   },
   "file_extension": ".py",
   "mimetype": "text/x-python",
   "name": "python",
   "nbconvert_exporter": "python",
   "pygments_lexer": "ipython3",
   "version": "3.12.3"
  }
 },
 "nbformat": 4,
 "nbformat_minor": 2
}
