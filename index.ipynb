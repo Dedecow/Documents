{
 "cells": [
  {
   "cell_type": "code",
   "execution_count": 1,
   "metadata": {},
   "outputs": [],
   "source": [
    "import pandas as pd\n",
    "import numpy as np\n",
    "from datetime import datetime\n",
    "import requests\n",
    "import os\n",
    "import sqlite3\n",
    "from contextlib import contextmanager"
   ]
  },
  {
   "cell_type": "code",
   "execution_count": 2,
   "metadata": {},
   "outputs": [
    {
     "name": "stdout",
     "output_type": "stream",
     "text": [
      "Funciona!\n"
     ]
    }
   ],
   "source": [
    "token = \"2528|6LQUYU9ZOJdvF24GGo4hTMKKCghaM6pk5yYtCarj\"\n",
    "headers = {\n",
    "    \"Accept\": \"application/json\",\n",
    "    \"Authorization\": f\"Bearer {token}\"\n",
    "}\n",
    "url = \"https://restfulcountries.com/api/v1/countries\"\n",
    "response = requests.get(url, headers=headers)\n",
    "data1 = None\n",
    "if response.status_code == 200:\n",
    "    data = response.json()\n",
    "    data1 = data\n",
    "else:\n",
    "    print(f\"Erro na requisição: {response.status_code}\")\n",
    "    print(response.text)\n",
    "\n",
    "print('Funciona!')\n"
   ]
  },
  {
   "cell_type": "code",
   "execution_count": 3,
   "metadata": {},
   "outputs": [
    {
     "name": "stdout",
     "output_type": "stream",
     "text": [
      "O site está disponível (Status Code: 200).\n"
     ]
    }
   ],
   "source": [
    "def alerta(url, token):\n",
    "    headers = {\n",
    "        \"Accept\": \"application/json\",\n",
    "        \"Authorization\": f\"Bearer {token}\"\n",
    "    }\n",
    "    try:\n",
    "        response = requests.get(url, headers=headers)\n",
    "        if response.status_code == 200:\n",
    "            return response.status_code\n",
    "        else:\n",
    "            print(f\"Erro na requisição: Status Code {response.status_code}\")\n",
    "            print(response.text)\n",
    "            return None\n",
    "    except requests.exceptions.RequestException as e:\n",
    "        print(f\"Erro ao acessar a URL: {e}\")\n",
    "        return None\n",
    "\n",
    "token = \"2528|6LQUYU9ZOJdvF24GGo4hTMKKCghaM6pk5yYtCarj\"\n",
    "url = \"https://restfulcountries.com/api/v1/countries\"\n",
    "status_code = alerta(url, token)\n",
    "\n",
    "if status_code == 200:\n",
    "    print(f\"O site está disponível (Status Code: {status_code}).\")\n",
    "elif status_code is None:\n",
    "    print(\"O site pode estar indisponível ou houve um erro na requisição.\")\n"
   ]
  },
  {
   "cell_type": "code",
   "execution_count": 4,
   "metadata": {},
   "outputs": [],
   "source": [
    "def obter_dados_da_api(url, token):\n",
    "    try:\n",
    "        response = requests.get(url, token)\n",
    "        return response.json()\n",
    "    except requests.exceptions.RequestException as e:\n",
    "        print(f\"Erro ao acessar a API: {e}\")\n",
    "        return None\n"
   ]
  },
  {
   "cell_type": "code",
   "execution_count": 5,
   "metadata": {},
   "outputs": [],
   "source": [
    "def criar_dataframe(data):\n",
    "    if data is None:\n",
    "        return None\n",
    "    \n",
    "    paises = []\n",
    "    for pais in data['data']:\n",
    "        pais_info = {\n",
    "            'Nome Comum': pais['name'],\n",
    "            'Nome Oficial': pais['full_name'],\n",
    "            'Código Alpha-2': pais['iso2'],\n",
    "            'Capital': pais['capital']\n",
    "        }\n",
    "        paises.append(pais_info)\n",
    "    \n",
    "    return pd.DataFrame(paises)"
   ]
  },
  {
   "cell_type": "code",
   "execution_count": 6,
   "metadata": {},
   "outputs": [],
   "source": [
    "def criar_dataframe_populacao(data):\n",
    "    if data is None:\n",
    "        return None\n",
    "    \n",
    "    paises = []\n",
    "    for pais in data['data']:\n",
    "        pais_info = {\n",
    "            'Nome Comum': pais['name'],\n",
    "            'População': pais['covid19']['total_case'],\n",
    "            'Área': pais['size'],\n",
    "            'Continente': pais['continent']\n",
    "        }\n",
    "        paises.append(pais_info)\n",
    "    \n",
    "    return pd.DataFrame(paises)\n"
   ]
  },
  {
   "cell_type": "code",
   "execution_count": 7,
   "metadata": {},
   "outputs": [],
   "source": [
    "def criar_dataframe_membro_da_onu(data):\n",
    "    if data is None:\n",
    "        return None\n",
    "    \n",
    "    paises = []\n",
    "    for pais in data['data']:\n",
    "        pais_info = {\n",
    "            'Nome Comum': pais.get('name'),\n",
    "                        'Nome Oficial': pais.get('full_name'),\n",
    "                        'Código Alpha-2': pais.get('iso2'),\n",
    "                        'Capital': pais.get('capital'),\n",
    "                        'População': pais.get('population'),\n",
    "                        'Área': pais.get('size'),\n",
    "                        'Continente': pais.get('continent'),\n",
    "                        'Independente': pais.get('independent'),\n",
    "                        'Membro da ONU': pais.get('unMember'),\n",
    "                        'Status': pais.get('status'), \n",
    "        }\n",
    "        paises.append(pais_info)\n",
    "    \n",
    "    return pd.DataFrame(paises)"
   ]
  },
  {
   "cell_type": "code",
   "execution_count": 8,
   "metadata": {},
   "outputs": [],
   "source": [
    "df_paises = criar_dataframe(data)\n",
    "df_populacao = criar_dataframe_populacao(data)\n",
    "df_onu = criar_dataframe_membro_da_onu(data)"
   ]
  },
  {
   "cell_type": "markdown",
   "metadata": {},
   "source": [
    "##Salva DataFrames do Pandas em arquivos CSV, mas apenas se esses DataFrames específicos já existirem na memória do programa e não forem None"
   ]
  },
  {
   "cell_type": "code",
   "execution_count": 9,
   "metadata": {},
   "outputs": [],
   "source": [
    "db_path = os.path.join(\"C:\\\\Users\\\\EberPC\\\\Documents\\\\andrehbahia\", \"dados_paises.db\")"
   ]
  },
  {
   "cell_type": "code",
   "execution_count": 10,
   "metadata": {},
   "outputs": [
    {
     "name": "stdout",
     "output_type": "stream",
     "text": [
      "DataFrame 'df_paises' salvo na tabela 'paises' em 'C:\\Users\\EberPC\\Documents\\andrehbahia\\dados_analise.db'.\n",
      "DataFrame 'df_populacao' salvo na tabela 'populacao' em 'C:\\Users\\EberPC\\Documents\\andrehbahia\\dados_analise.db'.\n",
      "DataFrame 'df_onu' salvo na tabela 'onu' em 'C:\\Users\\EberPC\\Documents\\andrehbahia\\dados_analise.db'.\n"
     ]
    }
   ],
   "source": [
    "endereco_base = \"C:\\\\Users\\\\EberPC\\\\Documents\\\\andrehbahia\"\n",
    "db_path = os.path.join(endereco_base, \"dados_analise.db\")\n",
    "\n",
    "try:\n",
    "    # Conecta ao banco de dados (cria o arquivo se não existir)\n",
    "    conn = sqlite3.connect(db_path)\n",
    "    cursor = conn.cursor()\n",
    "\n",
    "    if 'df_paises' in locals() and df_paises is not None:\n",
    "        nome_tabela_paises = \"paises\"\n",
    "        df_paises.to_sql(nome_tabela_paises, conn, if_exists='replace', index=False)\n",
    "        print(f\"DataFrame 'df_paises' salvo na tabela '{nome_tabela_paises}' em '{db_path}'.\")\n",
    "\n",
    "    if 'df_populacao' in locals() and df_populacao is not None:\n",
    "        nome_tabela_populacao = \"populacao\"\n",
    "        df_populacao.to_sql(nome_tabela_populacao, conn, if_exists='replace', index=False)\n",
    "        print(f\"DataFrame 'df_populacao' salvo na tabela '{nome_tabela_populacao}' em '{db_path}'.\")\n",
    "\n",
    "    if 'df_onu' in locals() and df_onu is not None:\n",
    "        nome_tabela_onu = \"onu\"\n",
    "        df_onu.to_sql(nome_tabela_onu, conn, if_exists='replace', index=False)\n",
    "        print(f\"DataFrame 'df_onu' salvo na tabela '{nome_tabela_onu}' em '{db_path}'.\")\n",
    "\n",
    "    # Commit as alterações\n",
    "    conn.commit()\n",
    "\n",
    "except sqlite3.Error as e:\n",
    "    print(f\"Erro ao interagir com o banco de dados SQLite: {e}\")\n",
    "\n",
    "finally:\n",
    "    # Fecha a conexão\n",
    "    if conn:\n",
    "        conn.close()"
   ]
  },
  {
   "cell_type": "code",
   "execution_count": 11,
   "metadata": {},
   "outputs": [
    {
     "name": "stdout",
     "output_type": "stream",
     "text": [
      "membros_transitorio\n",
      "paises\n",
      "populacao\n",
      "onu\n"
     ]
    }
   ],
   "source": [
    "conn = sqlite3.connect(db_path)\n",
    "cursor = conn.cursor()\n",
    "cursor.execute(\"SELECT name FROM sqlite_master WHERE type='table';\")\n",
    "tables = cursor.fetchall()\n",
    "for table in tables:\n",
    "    print(table[0])\n",
    "conn.close()"
   ]
  },
  {
   "cell_type": "code",
   "execution_count": 12,
   "metadata": {},
   "outputs": [
    {
     "data": {
      "text/html": [
       "<div>\n",
       "<style scoped>\n",
       "    .dataframe tbody tr th:only-of-type {\n",
       "        vertical-align: middle;\n",
       "    }\n",
       "\n",
       "    .dataframe tbody tr th {\n",
       "        vertical-align: top;\n",
       "    }\n",
       "\n",
       "    .dataframe thead th {\n",
       "        text-align: right;\n",
       "    }\n",
       "</style>\n",
       "<table border=\"1\" class=\"dataframe\">\n",
       "  <thead>\n",
       "    <tr style=\"text-align: right;\">\n",
       "      <th></th>\n",
       "      <th>Nome Comum</th>\n",
       "      <th>Nome Oficial</th>\n",
       "      <th>Código Alpha-2</th>\n",
       "      <th>Capital</th>\n",
       "    </tr>\n",
       "  </thead>\n",
       "  <tbody>\n",
       "    <tr>\n",
       "      <th>0</th>\n",
       "      <td>Afghanistan</td>\n",
       "      <td>Islamic Republic of Afghanistan</td>\n",
       "      <td>AF</td>\n",
       "      <td>Kabul</td>\n",
       "    </tr>\n",
       "    <tr>\n",
       "      <th>1</th>\n",
       "      <td>Albania</td>\n",
       "      <td>Republic of Albania | Shqipëria</td>\n",
       "      <td>AL</td>\n",
       "      <td>Tirana</td>\n",
       "    </tr>\n",
       "    <tr>\n",
       "      <th>2</th>\n",
       "      <td>Algeria</td>\n",
       "      <td>Democratic Republic of Algeria</td>\n",
       "      <td>DZ</td>\n",
       "      <td>Algiers</td>\n",
       "    </tr>\n",
       "    <tr>\n",
       "      <th>3</th>\n",
       "      <td>Andorra</td>\n",
       "      <td>Principality of Andorra</td>\n",
       "      <td>AD</td>\n",
       "      <td>Andorra la Vella</td>\n",
       "    </tr>\n",
       "    <tr>\n",
       "      <th>4</th>\n",
       "      <td>Angola</td>\n",
       "      <td>Republic of Angola</td>\n",
       "      <td>AO</td>\n",
       "      <td>Luanda</td>\n",
       "    </tr>\n",
       "  </tbody>\n",
       "</table>\n",
       "</div>"
      ],
      "text/plain": [
       "    Nome Comum                     Nome Oficial Código Alpha-2  \\\n",
       "0  Afghanistan  Islamic Republic of Afghanistan             AF   \n",
       "1      Albania  Republic of Albania | Shqipëria             AL   \n",
       "2      Algeria   Democratic Republic of Algeria             DZ   \n",
       "3      Andorra          Principality of Andorra             AD   \n",
       "4       Angola               Republic of Angola             AO   \n",
       "\n",
       "            Capital  \n",
       "0             Kabul  \n",
       "1            Tirana  \n",
       "2           Algiers  \n",
       "3  Andorra la Vella  \n",
       "4            Luanda  "
      ]
     },
     "execution_count": 12,
     "metadata": {},
     "output_type": "execute_result"
    }
   ],
   "source": [
    "conn = sqlite3.connect(db_path)\n",
    "df_paises = pd.read_sql_query(f\"SELECT * FROM {nome_tabela_paises}\", conn)\n",
    "conn.close()\n",
    "\n",
    "df_paises.head()"
   ]
  },
  {
   "cell_type": "code",
   "execution_count": 13,
   "metadata": {},
   "outputs": [
    {
     "name": "stdout",
     "output_type": "stream",
     "text": [
      "<class 'pandas.core.frame.DataFrame'>\n",
      "RangeIndex: 186 entries, 0 to 185\n",
      "Data columns (total 4 columns):\n",
      " #   Column          Non-Null Count  Dtype \n",
      "---  ------          --------------  ----- \n",
      " 0   Nome Comum      186 non-null    object\n",
      " 1   Nome Oficial    184 non-null    object\n",
      " 2   Código Alpha-2  186 non-null    object\n",
      " 3   Capital         186 non-null    object\n",
      "dtypes: object(4)\n",
      "memory usage: 5.9+ KB\n"
     ]
    }
   ],
   "source": [
    "df_paises.info()"
   ]
  },
  {
   "cell_type": "code",
   "execution_count": 14,
   "metadata": {},
   "outputs": [
    {
     "data": {
      "text/plain": [
       "(186, 4)"
      ]
     },
     "execution_count": 14,
     "metadata": {},
     "output_type": "execute_result"
    }
   ],
   "source": [
    "df_paises.shape"
   ]
  },
  {
   "cell_type": "code",
   "execution_count": 15,
   "metadata": {},
   "outputs": [
    {
     "data": {
      "text/plain": [
       "Index(['Nome Comum', 'Nome Oficial', 'Código Alpha-2', 'Capital'], dtype='object')"
      ]
     },
     "execution_count": 15,
     "metadata": {},
     "output_type": "execute_result"
    }
   ],
   "source": [
    "df_paises.columns"
   ]
  },
  {
   "cell_type": "code",
   "execution_count": 16,
   "metadata": {},
   "outputs": [
    {
     "data": {
      "text/html": [
       "<div>\n",
       "<style scoped>\n",
       "    .dataframe tbody tr th:only-of-type {\n",
       "        vertical-align: middle;\n",
       "    }\n",
       "\n",
       "    .dataframe tbody tr th {\n",
       "        vertical-align: top;\n",
       "    }\n",
       "\n",
       "    .dataframe thead th {\n",
       "        text-align: right;\n",
       "    }\n",
       "</style>\n",
       "<table border=\"1\" class=\"dataframe\">\n",
       "  <thead>\n",
       "    <tr style=\"text-align: right;\">\n",
       "      <th></th>\n",
       "      <th>Nome Comum</th>\n",
       "      <th>População</th>\n",
       "      <th>Área</th>\n",
       "      <th>Continente</th>\n",
       "    </tr>\n",
       "  </thead>\n",
       "  <tbody>\n",
       "    <tr>\n",
       "      <th>0</th>\n",
       "      <td>Afghanistan</td>\n",
       "      <td>46,498</td>\n",
       "      <td>652,000 km²</td>\n",
       "      <td>Asia</td>\n",
       "    </tr>\n",
       "    <tr>\n",
       "      <th>1</th>\n",
       "      <td>Albania</td>\n",
       "      <td>37,625</td>\n",
       "      <td>28,748 km²</td>\n",
       "      <td>Europe</td>\n",
       "    </tr>\n",
       "    <tr>\n",
       "      <th>2</th>\n",
       "      <td>Algeria</td>\n",
       "      <td>83,199</td>\n",
       "      <td>2,381,741 km²</td>\n",
       "      <td>Africa</td>\n",
       "    </tr>\n",
       "    <tr>\n",
       "      <th>3</th>\n",
       "      <td>Andorra</td>\n",
       "      <td>6,712</td>\n",
       "      <td>468 km²</td>\n",
       "      <td>Europe</td>\n",
       "    </tr>\n",
       "    <tr>\n",
       "      <th>4</th>\n",
       "      <td>Angola</td>\n",
       "      <td>15,139</td>\n",
       "      <td>1,246,620 km²</td>\n",
       "      <td>Africa</td>\n",
       "    </tr>\n",
       "  </tbody>\n",
       "</table>\n",
       "</div>"
      ],
      "text/plain": [
       "    Nome Comum População           Área Continente\n",
       "0  Afghanistan    46,498    652,000 km²       Asia\n",
       "1      Albania    37,625     28,748 km²     Europe\n",
       "2      Algeria    83,199  2,381,741 km²     Africa\n",
       "3      Andorra     6,712        468 km²     Europe\n",
       "4       Angola    15,139  1,246,620 km²     Africa"
      ]
     },
     "execution_count": 16,
     "metadata": {},
     "output_type": "execute_result"
    }
   ],
   "source": [
    "conn = sqlite3.connect(db_path)\n",
    "df_populacao = pd.read_sql_query(f\"SELECT * FROM {nome_tabela_populacao}\", conn)\n",
    "conn.close()\n",
    "df_populacao.head()"
   ]
  },
  {
   "cell_type": "code",
   "execution_count": 17,
   "metadata": {},
   "outputs": [
    {
     "name": "stdout",
     "output_type": "stream",
     "text": [
      "<class 'pandas.core.frame.DataFrame'>\n",
      "RangeIndex: 186 entries, 0 to 185\n",
      "Data columns (total 4 columns):\n",
      " #   Column      Non-Null Count  Dtype \n",
      "---  ------      --------------  ----- \n",
      " 0   Nome Comum  186 non-null    object\n",
      " 1   População   186 non-null    object\n",
      " 2   Área        186 non-null    object\n",
      " 3   Continente  184 non-null    object\n",
      "dtypes: object(4)\n",
      "memory usage: 5.9+ KB\n"
     ]
    }
   ],
   "source": [
    "df_populacao.info()"
   ]
  },
  {
   "cell_type": "code",
   "execution_count": 18,
   "metadata": {},
   "outputs": [
    {
     "data": {
      "text/plain": [
       "(186, 4)"
      ]
     },
     "execution_count": 18,
     "metadata": {},
     "output_type": "execute_result"
    }
   ],
   "source": [
    "df_populacao.shape"
   ]
  },
  {
   "cell_type": "code",
   "execution_count": 19,
   "metadata": {},
   "outputs": [
    {
     "data": {
      "text/plain": [
       "Index(['Nome Comum', 'População', 'Área', 'Continente'], dtype='object')"
      ]
     },
     "execution_count": 19,
     "metadata": {},
     "output_type": "execute_result"
    }
   ],
   "source": [
    "df_populacao.columns"
   ]
  },
  {
   "cell_type": "code",
   "execution_count": 20,
   "metadata": {},
   "outputs": [
    {
     "data": {
      "text/html": [
       "<div>\n",
       "<style scoped>\n",
       "    .dataframe tbody tr th:only-of-type {\n",
       "        vertical-align: middle;\n",
       "    }\n",
       "\n",
       "    .dataframe tbody tr th {\n",
       "        vertical-align: top;\n",
       "    }\n",
       "\n",
       "    .dataframe thead th {\n",
       "        text-align: right;\n",
       "    }\n",
       "</style>\n",
       "<table border=\"1\" class=\"dataframe\">\n",
       "  <thead>\n",
       "    <tr style=\"text-align: right;\">\n",
       "      <th></th>\n",
       "      <th>Nome Comum</th>\n",
       "      <th>Nome Oficial</th>\n",
       "      <th>Código Alpha-2</th>\n",
       "      <th>Capital</th>\n",
       "      <th>População</th>\n",
       "      <th>Área</th>\n",
       "      <th>Continente</th>\n",
       "      <th>Independente</th>\n",
       "      <th>Membro da ONU</th>\n",
       "      <th>Status</th>\n",
       "    </tr>\n",
       "  </thead>\n",
       "  <tbody>\n",
       "    <tr>\n",
       "      <th>0</th>\n",
       "      <td>Afghanistan</td>\n",
       "      <td>Islamic Republic of Afghanistan</td>\n",
       "      <td>AF</td>\n",
       "      <td>Kabul</td>\n",
       "      <td>39,306,195</td>\n",
       "      <td>652,000 km²</td>\n",
       "      <td>Asia</td>\n",
       "      <td>None</td>\n",
       "      <td>None</td>\n",
       "      <td>None</td>\n",
       "    </tr>\n",
       "    <tr>\n",
       "      <th>1</th>\n",
       "      <td>Albania</td>\n",
       "      <td>Republic of Albania | Shqipëria</td>\n",
       "      <td>AL</td>\n",
       "      <td>Tirana</td>\n",
       "      <td>2,876,490</td>\n",
       "      <td>28,748 km²</td>\n",
       "      <td>Europe</td>\n",
       "      <td>None</td>\n",
       "      <td>None</td>\n",
       "      <td>None</td>\n",
       "    </tr>\n",
       "    <tr>\n",
       "      <th>2</th>\n",
       "      <td>Algeria</td>\n",
       "      <td>Democratic Republic of Algeria</td>\n",
       "      <td>DZ</td>\n",
       "      <td>Algiers</td>\n",
       "      <td>44,190,030</td>\n",
       "      <td>2,381,741 km²</td>\n",
       "      <td>Africa</td>\n",
       "      <td>None</td>\n",
       "      <td>None</td>\n",
       "      <td>None</td>\n",
       "    </tr>\n",
       "    <tr>\n",
       "      <th>3</th>\n",
       "      <td>Andorra</td>\n",
       "      <td>Principality of Andorra</td>\n",
       "      <td>AD</td>\n",
       "      <td>Andorra la Vella</td>\n",
       "      <td>77,317</td>\n",
       "      <td>468 km²</td>\n",
       "      <td>Europe</td>\n",
       "      <td>None</td>\n",
       "      <td>None</td>\n",
       "      <td>None</td>\n",
       "    </tr>\n",
       "    <tr>\n",
       "      <th>4</th>\n",
       "      <td>Angola</td>\n",
       "      <td>Republic of Angola</td>\n",
       "      <td>AO</td>\n",
       "      <td>Luanda</td>\n",
       "      <td>33,312,843</td>\n",
       "      <td>1,246,620 km²</td>\n",
       "      <td>Africa</td>\n",
       "      <td>None</td>\n",
       "      <td>None</td>\n",
       "      <td>None</td>\n",
       "    </tr>\n",
       "  </tbody>\n",
       "</table>\n",
       "</div>"
      ],
      "text/plain": [
       "    Nome Comum                     Nome Oficial Código Alpha-2  \\\n",
       "0  Afghanistan  Islamic Republic of Afghanistan             AF   \n",
       "1      Albania  Republic of Albania | Shqipëria             AL   \n",
       "2      Algeria   Democratic Republic of Algeria             DZ   \n",
       "3      Andorra          Principality of Andorra             AD   \n",
       "4       Angola               Republic of Angola             AO   \n",
       "\n",
       "            Capital   População           Área Continente Independente  \\\n",
       "0             Kabul  39,306,195    652,000 km²       Asia         None   \n",
       "1            Tirana   2,876,490     28,748 km²     Europe         None   \n",
       "2           Algiers  44,190,030  2,381,741 km²     Africa         None   \n",
       "3  Andorra la Vella      77,317        468 km²     Europe         None   \n",
       "4            Luanda  33,312,843  1,246,620 km²     Africa         None   \n",
       "\n",
       "  Membro da ONU Status  \n",
       "0          None   None  \n",
       "1          None   None  \n",
       "2          None   None  \n",
       "3          None   None  \n",
       "4          None   None  "
      ]
     },
     "execution_count": 20,
     "metadata": {},
     "output_type": "execute_result"
    }
   ],
   "source": [
    "conn = sqlite3.connect(db_path)\n",
    "df_onu = pd.read_sql_query(f\"SELECT * FROM {nome_tabela_onu}\", conn)\n",
    "conn.close()\n",
    "df_onu.head()"
   ]
  },
  {
   "cell_type": "code",
   "execution_count": 21,
   "metadata": {},
   "outputs": [
    {
     "name": "stdout",
     "output_type": "stream",
     "text": [
      "<class 'pandas.core.frame.DataFrame'>\n",
      "RangeIndex: 186 entries, 0 to 185\n",
      "Data columns (total 10 columns):\n",
      " #   Column          Non-Null Count  Dtype \n",
      "---  ------          --------------  ----- \n",
      " 0   Nome Comum      186 non-null    object\n",
      " 1   Nome Oficial    184 non-null    object\n",
      " 2   Código Alpha-2  186 non-null    object\n",
      " 3   Capital         186 non-null    object\n",
      " 4   População       186 non-null    object\n",
      " 5   Área            186 non-null    object\n",
      " 6   Continente      184 non-null    object\n",
      " 7   Independente    0 non-null      object\n",
      " 8   Membro da ONU   0 non-null      object\n",
      " 9   Status          0 non-null      object\n",
      "dtypes: object(10)\n",
      "memory usage: 14.7+ KB\n"
     ]
    }
   ],
   "source": [
    "df_onu.info()"
   ]
  },
  {
   "cell_type": "code",
   "execution_count": 22,
   "metadata": {},
   "outputs": [
    {
     "data": {
      "text/plain": [
       "(186, 10)"
      ]
     },
     "execution_count": 22,
     "metadata": {},
     "output_type": "execute_result"
    }
   ],
   "source": [
    "df_onu.shape"
   ]
  },
  {
   "cell_type": "code",
   "execution_count": 23,
   "metadata": {},
   "outputs": [
    {
     "data": {
      "text/plain": [
       "Index(['Nome Comum', 'Nome Oficial', 'Código Alpha-2', 'Capital', 'População',\n",
       "       'Área', 'Continente', 'Independente', 'Membro da ONU', 'Status'],\n",
       "      dtype='object')"
      ]
     },
     "execution_count": 23,
     "metadata": {},
     "output_type": "execute_result"
    }
   ],
   "source": [
    "df_onu.columns"
   ]
  },
  {
   "cell_type": "code",
   "execution_count": 24,
   "metadata": {},
   "outputs": [
    {
     "name": "stdout",
     "output_type": "stream",
     "text": [
      "Nome Comum\n",
      "Nome Oficial\n",
      "Código Alpha-2\n",
      "Capital\n",
      "População\n",
      "Área\n",
      "Continente\n",
      "Independente\n",
      "Membro da ONU\n",
      "Status\n"
     ]
    }
   ],
   "source": [
    "nome_tabela = \"onu\"\n",
    "conn = sqlite3.connect(db_path)\n",
    "cursor = conn.cursor()\n",
    "cursor.execute(f\"PRAGMA table_info({nome_tabela});\")\n",
    "columns_info = cursor.fetchall()\n",
    "for column in columns_info:\n",
    "    print(column[1])"
   ]
  },
  {
   "cell_type": "markdown",
   "metadata": {},
   "source": [
    "## Problema com Dados de Filiados da ONU e Busca na API\n",
    "\n",
    "Precisei buscar informações mais precisas e atualizadas diretamente na **API oficial da ONU**.\n"
   ]
  },
  {
   "cell_type": "code",
   "execution_count": 25,
   "metadata": {},
   "outputs": [
    {
     "data": {
      "text/plain": [
       "Index(['name', 'full_name', 'capital', 'iso2', 'iso3', 'covid19',\n",
       "       'current_president', 'currency', 'phone_code', 'continent',\n",
       "       'description', 'size', 'independence_date', 'population', 'href'],\n",
       "      dtype='object')"
      ]
     },
     "execution_count": 25,
     "metadata": {},
     "output_type": "execute_result"
    }
   ],
   "source": [
    "url = 'https://population.un.org/dataportalapi/api/v1/locais'\n",
    "\n",
    "if response.status_code == 200:\n",
    "    membros_onu = response.json()\n",
    "else:\n",
    "    print(f\"Erro na requisição: {response.status_code}\")\n",
    "    print(response.text)\n",
    "\n",
    "df_membros = pd.DataFrame(membros_onu['data'])\n",
    "df_membros.columns\n"
   ]
  },
  {
   "cell_type": "code",
   "execution_count": 26,
   "metadata": {},
   "outputs": [],
   "source": [
    "url = 'https://population.un.org/dataportalapi/api/v1/locais'\n",
    "response = requests.get(url)\n",
    "\n",
    "if response.status_code == 200:\n",
    "    membros_onu = response.json()\n",
    "    df_membros = pd.DataFrame(membros_onu['data'])\n",
    "    df_membros = df_membros[['name']]  \n"
   ]
  },
  {
   "cell_type": "markdown",
   "metadata": {},
   "source": [
    "## A NAME corresponde aos dados que nos falta:\n",
    "\n",
    "**`name`**"
   ]
  },
  {
   "cell_type": "code",
   "execution_count": 27,
   "metadata": {},
   "outputs": [
    {
     "data": {
      "text/plain": [
       "0      Afghanistan\n",
       "1          Albania\n",
       "2          Algeria\n",
       "3          Andorra\n",
       "4           Angola\n",
       "          ...     \n",
       "181      Venezuela\n",
       "182        Vietnam\n",
       "183          Yemen\n",
       "184         Zambia\n",
       "185       Zimbabwe\n",
       "Name: name, Length: 186, dtype: object"
      ]
     },
     "execution_count": 27,
     "metadata": {},
     "output_type": "execute_result"
    }
   ],
   "source": [
    "coluna_nome = df_membros['name']\n",
    "coluna_nome\n"
   ]
  },
  {
   "cell_type": "code",
   "execution_count": 28,
   "metadata": {},
   "outputs": [],
   "source": [
    "db_path = os.path.join(endereco_base, \"dados_analise.db\")\n",
    "\n",
    "nome_tabela_onu = \"onu\""
   ]
  },
  {
   "cell_type": "code",
   "execution_count": 29,
   "metadata": {},
   "outputs": [],
   "source": [
    "conn = sqlite3.connect(db_path)\n",
    "cursor = conn.cursor()\n",
    "\n",
    "cursor.execute(f\"SELECT name FROM sqlite_master WHERE type='table' AND name='{nome_tabela_onu}';\")\n",
    "\n",
    "table_exists = cursor.fetchone()\n",
    "df_dados_onu = pd.read_sql_query(f\"SELECT * FROM {nome_tabela_onu}\", conn)\n",
    "conn.close()    \n"
   ]
  },
  {
   "cell_type": "code",
   "execution_count": 30,
   "metadata": {},
   "outputs": [
    {
     "name": "stdout",
     "output_type": "stream",
     "text": [
      "Nome Comum\n",
      "Nome Oficial\n",
      "Código Alpha-2\n",
      "Capital\n",
      "População\n",
      "Área\n",
      "Continente\n",
      "Independente\n",
      "Membro da ONU\n",
      "Status\n"
     ]
    }
   ],
   "source": [
    "nome_tabela = \"onu\"\n",
    "conn = sqlite3.connect(db_path)\n",
    "cursor = conn.cursor()\n",
    "cursor.execute(f\"PRAGMA table_info({nome_tabela});\")\n",
    "columns_info = cursor.fetchall()\n",
    "for column in columns_info:\n",
    "    print(column[1])"
   ]
  },
  {
   "cell_type": "code",
   "execution_count": 31,
   "metadata": {},
   "outputs": [],
   "source": [
    "nome_nova_coluna = 'paises_membros_da_ONU'\n",
    "df_onu[nome_nova_coluna] = coluna_nome"
   ]
  },
  {
   "cell_type": "code",
   "execution_count": 32,
   "metadata": {},
   "outputs": [
    {
     "data": {
      "text/html": [
       "<div>\n",
       "<style scoped>\n",
       "    .dataframe tbody tr th:only-of-type {\n",
       "        vertical-align: middle;\n",
       "    }\n",
       "\n",
       "    .dataframe tbody tr th {\n",
       "        vertical-align: top;\n",
       "    }\n",
       "\n",
       "    .dataframe thead th {\n",
       "        text-align: right;\n",
       "    }\n",
       "</style>\n",
       "<table border=\"1\" class=\"dataframe\">\n",
       "  <thead>\n",
       "    <tr style=\"text-align: right;\">\n",
       "      <th></th>\n",
       "      <th>Nome Comum</th>\n",
       "      <th>Nome Oficial</th>\n",
       "      <th>Código Alpha-2</th>\n",
       "      <th>Capital</th>\n",
       "      <th>População</th>\n",
       "      <th>Área</th>\n",
       "      <th>Continente</th>\n",
       "      <th>Independente</th>\n",
       "      <th>Membro da ONU</th>\n",
       "      <th>Status</th>\n",
       "      <th>paises_membros_da_ONU</th>\n",
       "    </tr>\n",
       "  </thead>\n",
       "  <tbody>\n",
       "    <tr>\n",
       "      <th>0</th>\n",
       "      <td>Afghanistan</td>\n",
       "      <td>Islamic Republic of Afghanistan</td>\n",
       "      <td>AF</td>\n",
       "      <td>Kabul</td>\n",
       "      <td>39,306,195</td>\n",
       "      <td>652,000 km²</td>\n",
       "      <td>Asia</td>\n",
       "      <td>None</td>\n",
       "      <td>None</td>\n",
       "      <td>None</td>\n",
       "      <td>Afghanistan</td>\n",
       "    </tr>\n",
       "    <tr>\n",
       "      <th>1</th>\n",
       "      <td>Albania</td>\n",
       "      <td>Republic of Albania | Shqipëria</td>\n",
       "      <td>AL</td>\n",
       "      <td>Tirana</td>\n",
       "      <td>2,876,490</td>\n",
       "      <td>28,748 km²</td>\n",
       "      <td>Europe</td>\n",
       "      <td>None</td>\n",
       "      <td>None</td>\n",
       "      <td>None</td>\n",
       "      <td>Albania</td>\n",
       "    </tr>\n",
       "    <tr>\n",
       "      <th>2</th>\n",
       "      <td>Algeria</td>\n",
       "      <td>Democratic Republic of Algeria</td>\n",
       "      <td>DZ</td>\n",
       "      <td>Algiers</td>\n",
       "      <td>44,190,030</td>\n",
       "      <td>2,381,741 km²</td>\n",
       "      <td>Africa</td>\n",
       "      <td>None</td>\n",
       "      <td>None</td>\n",
       "      <td>None</td>\n",
       "      <td>Algeria</td>\n",
       "    </tr>\n",
       "    <tr>\n",
       "      <th>3</th>\n",
       "      <td>Andorra</td>\n",
       "      <td>Principality of Andorra</td>\n",
       "      <td>AD</td>\n",
       "      <td>Andorra la Vella</td>\n",
       "      <td>77,317</td>\n",
       "      <td>468 km²</td>\n",
       "      <td>Europe</td>\n",
       "      <td>None</td>\n",
       "      <td>None</td>\n",
       "      <td>None</td>\n",
       "      <td>Andorra</td>\n",
       "    </tr>\n",
       "    <tr>\n",
       "      <th>4</th>\n",
       "      <td>Angola</td>\n",
       "      <td>Republic of Angola</td>\n",
       "      <td>AO</td>\n",
       "      <td>Luanda</td>\n",
       "      <td>33,312,843</td>\n",
       "      <td>1,246,620 km²</td>\n",
       "      <td>Africa</td>\n",
       "      <td>None</td>\n",
       "      <td>None</td>\n",
       "      <td>None</td>\n",
       "      <td>Angola</td>\n",
       "    </tr>\n",
       "  </tbody>\n",
       "</table>\n",
       "</div>"
      ],
      "text/plain": [
       "    Nome Comum                     Nome Oficial Código Alpha-2  \\\n",
       "0  Afghanistan  Islamic Republic of Afghanistan             AF   \n",
       "1      Albania  Republic of Albania | Shqipëria             AL   \n",
       "2      Algeria   Democratic Republic of Algeria             DZ   \n",
       "3      Andorra          Principality of Andorra             AD   \n",
       "4       Angola               Republic of Angola             AO   \n",
       "\n",
       "            Capital   População           Área Continente Independente  \\\n",
       "0             Kabul  39,306,195    652,000 km²       Asia         None   \n",
       "1            Tirana   2,876,490     28,748 km²     Europe         None   \n",
       "2           Algiers  44,190,030  2,381,741 km²     Africa         None   \n",
       "3  Andorra la Vella      77,317        468 km²     Europe         None   \n",
       "4            Luanda  33,312,843  1,246,620 km²     Africa         None   \n",
       "\n",
       "  Membro da ONU Status paises_membros_da_ONU  \n",
       "0          None   None           Afghanistan  \n",
       "1          None   None               Albania  \n",
       "2          None   None               Algeria  \n",
       "3          None   None               Andorra  \n",
       "4          None   None                Angola  "
      ]
     },
     "execution_count": 32,
     "metadata": {},
     "output_type": "execute_result"
    }
   ],
   "source": [
    "df_onu.head()"
   ]
  },
  {
   "cell_type": "code",
   "execution_count": 33,
   "metadata": {},
   "outputs": [
    {
     "data": {
      "text/plain": [
       "Index(['Nome Comum', 'Nome Oficial', 'Código Alpha-2', 'Capital', 'População',\n",
       "       'Área', 'Continente', 'Independente', 'Membro da ONU', 'Status',\n",
       "       'paises_membros_da_ONU'],\n",
       "      dtype='object')"
      ]
     },
     "execution_count": 33,
     "metadata": {},
     "output_type": "execute_result"
    }
   ],
   "source": [
    "df_onu.columns"
   ]
  },
  {
   "cell_type": "code",
   "execution_count": 34,
   "metadata": {},
   "outputs": [
    {
     "name": "stdout",
     "output_type": "stream",
     "text": [
      "Colunas após leitura: Index(['Nome Comum', 'Nome Oficial', 'Código Alpha-2', 'Capital', 'População',\n",
      "       'Área', 'Continente', 'Independente', 'Membro da ONU', 'Status',\n",
      "       'paises_membros_da_ONU'],\n",
      "      dtype='object')\n"
     ]
    },
    {
     "data": {
      "text/html": [
       "<div>\n",
       "<style scoped>\n",
       "    .dataframe tbody tr th:only-of-type {\n",
       "        vertical-align: middle;\n",
       "    }\n",
       "\n",
       "    .dataframe tbody tr th {\n",
       "        vertical-align: top;\n",
       "    }\n",
       "\n",
       "    .dataframe thead th {\n",
       "        text-align: right;\n",
       "    }\n",
       "</style>\n",
       "<table border=\"1\" class=\"dataframe\">\n",
       "  <thead>\n",
       "    <tr style=\"text-align: right;\">\n",
       "      <th></th>\n",
       "      <th>Nome Comum</th>\n",
       "      <th>Nome Oficial</th>\n",
       "      <th>Código Alpha-2</th>\n",
       "      <th>Capital</th>\n",
       "      <th>População</th>\n",
       "      <th>Área</th>\n",
       "      <th>Continente</th>\n",
       "      <th>Independente</th>\n",
       "      <th>Membro da ONU</th>\n",
       "      <th>Status</th>\n",
       "    </tr>\n",
       "  </thead>\n",
       "  <tbody>\n",
       "    <tr>\n",
       "      <th>0</th>\n",
       "      <td>Afghanistan</td>\n",
       "      <td>Islamic Republic of Afghanistan</td>\n",
       "      <td>AF</td>\n",
       "      <td>Kabul</td>\n",
       "      <td>39,306,195</td>\n",
       "      <td>652,000 km²</td>\n",
       "      <td>Asia</td>\n",
       "      <td>None</td>\n",
       "      <td>YES</td>\n",
       "      <td>None</td>\n",
       "    </tr>\n",
       "    <tr>\n",
       "      <th>1</th>\n",
       "      <td>Albania</td>\n",
       "      <td>Republic of Albania | Shqipëria</td>\n",
       "      <td>AL</td>\n",
       "      <td>Tirana</td>\n",
       "      <td>2,876,490</td>\n",
       "      <td>28,748 km²</td>\n",
       "      <td>Europe</td>\n",
       "      <td>None</td>\n",
       "      <td>YES</td>\n",
       "      <td>None</td>\n",
       "    </tr>\n",
       "    <tr>\n",
       "      <th>2</th>\n",
       "      <td>Algeria</td>\n",
       "      <td>Democratic Republic of Algeria</td>\n",
       "      <td>DZ</td>\n",
       "      <td>Algiers</td>\n",
       "      <td>44,190,030</td>\n",
       "      <td>2,381,741 km²</td>\n",
       "      <td>Africa</td>\n",
       "      <td>None</td>\n",
       "      <td>YES</td>\n",
       "      <td>None</td>\n",
       "    </tr>\n",
       "    <tr>\n",
       "      <th>3</th>\n",
       "      <td>Andorra</td>\n",
       "      <td>Principality of Andorra</td>\n",
       "      <td>AD</td>\n",
       "      <td>Andorra la Vella</td>\n",
       "      <td>77,317</td>\n",
       "      <td>468 km²</td>\n",
       "      <td>Europe</td>\n",
       "      <td>None</td>\n",
       "      <td>YES</td>\n",
       "      <td>None</td>\n",
       "    </tr>\n",
       "    <tr>\n",
       "      <th>4</th>\n",
       "      <td>Angola</td>\n",
       "      <td>Republic of Angola</td>\n",
       "      <td>AO</td>\n",
       "      <td>Luanda</td>\n",
       "      <td>33,312,843</td>\n",
       "      <td>1,246,620 km²</td>\n",
       "      <td>Africa</td>\n",
       "      <td>None</td>\n",
       "      <td>YES</td>\n",
       "      <td>None</td>\n",
       "    </tr>\n",
       "  </tbody>\n",
       "</table>\n",
       "</div>"
      ],
      "text/plain": [
       "    Nome Comum                     Nome Oficial Código Alpha-2  \\\n",
       "0  Afghanistan  Islamic Republic of Afghanistan             AF   \n",
       "1      Albania  Republic of Albania | Shqipëria             AL   \n",
       "2      Algeria   Democratic Republic of Algeria             DZ   \n",
       "3      Andorra          Principality of Andorra             AD   \n",
       "4       Angola               Republic of Angola             AO   \n",
       "\n",
       "            Capital   População           Área Continente Independente  \\\n",
       "0             Kabul  39,306,195    652,000 km²       Asia         None   \n",
       "1            Tirana   2,876,490     28,748 km²     Europe         None   \n",
       "2           Algiers  44,190,030  2,381,741 km²     Africa         None   \n",
       "3  Andorra la Vella      77,317        468 km²     Europe         None   \n",
       "4            Luanda  33,312,843  1,246,620 km²     Africa         None   \n",
       "\n",
       "  Membro da ONU Status  \n",
       "0           YES   None  \n",
       "1           YES   None  \n",
       "2           YES   None  \n",
       "3           YES   None  \n",
       "4           YES   None  "
      ]
     },
     "execution_count": 34,
     "metadata": {},
     "output_type": "execute_result"
    }
   ],
   "source": [
    "db_path = 'dados_analise.db'\n",
    "nome_tabela_onu = \"onu\"\n",
    "nome_coluna_paises_membros = 'paises_membros_da_ONU'\n",
    "nome_coluna_nome_comum = 'Nome Comum'\n",
    "nome_coluna_membro_onu = 'Membro da ONU'\n",
    "\n",
    "conn = sqlite3.connect(db_path)\n",
    "df_onu = pd.read_sql_query(f\"SELECT * FROM {nome_tabela_onu}\", conn)\n",
    "nome_nova_coluna = 'paises_membros_da_ONU'\n",
    "\n",
    "df_onu[nome_nova_coluna] = coluna_nome\n",
    "print(\"Colunas após leitura:\", df_onu.columns)\n",
    "\n",
    "def verificar_membro(row):\n",
    "    nome_comum = row[nome_coluna_nome_comum]\n",
    "    if nome_coluna_paises_membros in row:\n",
    "        string_paises_membros = row[nome_coluna_paises_membros]\n",
    "        if isinstance(string_paises_membros, str) and nome_comum in string_paises_membros:\n",
    "            return 'YES'\n",
    "        else:\n",
    "            return 'NO'\n",
    "    else:\n",
    "        return 'Coluna \"paises_membros_da_ONU\" não encontrada na linha'\n",
    "\n",
    "df_onu[nome_coluna_membro_onu] = df_onu.apply(verificar_membro, axis=1)\n",
    "\n",
    "nome_coluna_para_excluir = 'paises_membros_da_ONU'  \n",
    "\n",
    "df_onu = df_onu.drop(columns=[nome_coluna_para_excluir], axis=1, errors='ignore')\n",
    "conn.close()\n",
    "\n",
    "df_onu.head() \n"
   ]
  },
  {
   "cell_type": "code",
   "execution_count": 35,
   "metadata": {},
   "outputs": [
    {
     "data": {
      "text/html": [
       "<div>\n",
       "<style scoped>\n",
       "    .dataframe tbody tr th:only-of-type {\n",
       "        vertical-align: middle;\n",
       "    }\n",
       "\n",
       "    .dataframe tbody tr th {\n",
       "        vertical-align: top;\n",
       "    }\n",
       "\n",
       "    .dataframe thead th {\n",
       "        text-align: right;\n",
       "    }\n",
       "</style>\n",
       "<table border=\"1\" class=\"dataframe\">\n",
       "  <thead>\n",
       "    <tr style=\"text-align: right;\">\n",
       "      <th></th>\n",
       "      <th>Nome Comum</th>\n",
       "      <th>Nome Oficial</th>\n",
       "      <th>Código Alpha-2</th>\n",
       "      <th>Capital</th>\n",
       "      <th>População</th>\n",
       "      <th>Área</th>\n",
       "      <th>Continente</th>\n",
       "      <th>Membro da ONU</th>\n",
       "      <th>Status</th>\n",
       "    </tr>\n",
       "  </thead>\n",
       "  <tbody>\n",
       "    <tr>\n",
       "      <th>0</th>\n",
       "      <td>Afghanistan</td>\n",
       "      <td>Islamic Republic of Afghanistan</td>\n",
       "      <td>AF</td>\n",
       "      <td>Kabul</td>\n",
       "      <td>39,306,195</td>\n",
       "      <td>652,000 km²</td>\n",
       "      <td>Asia</td>\n",
       "      <td>YES</td>\n",
       "      <td>None</td>\n",
       "    </tr>\n",
       "    <tr>\n",
       "      <th>1</th>\n",
       "      <td>Albania</td>\n",
       "      <td>Republic of Albania | Shqipëria</td>\n",
       "      <td>AL</td>\n",
       "      <td>Tirana</td>\n",
       "      <td>2,876,490</td>\n",
       "      <td>28,748 km²</td>\n",
       "      <td>Europe</td>\n",
       "      <td>YES</td>\n",
       "      <td>None</td>\n",
       "    </tr>\n",
       "    <tr>\n",
       "      <th>2</th>\n",
       "      <td>Algeria</td>\n",
       "      <td>Democratic Republic of Algeria</td>\n",
       "      <td>DZ</td>\n",
       "      <td>Algiers</td>\n",
       "      <td>44,190,030</td>\n",
       "      <td>2,381,741 km²</td>\n",
       "      <td>Africa</td>\n",
       "      <td>YES</td>\n",
       "      <td>None</td>\n",
       "    </tr>\n",
       "    <tr>\n",
       "      <th>3</th>\n",
       "      <td>Andorra</td>\n",
       "      <td>Principality of Andorra</td>\n",
       "      <td>AD</td>\n",
       "      <td>Andorra la Vella</td>\n",
       "      <td>77,317</td>\n",
       "      <td>468 km²</td>\n",
       "      <td>Europe</td>\n",
       "      <td>YES</td>\n",
       "      <td>None</td>\n",
       "    </tr>\n",
       "    <tr>\n",
       "      <th>4</th>\n",
       "      <td>Angola</td>\n",
       "      <td>Republic of Angola</td>\n",
       "      <td>AO</td>\n",
       "      <td>Luanda</td>\n",
       "      <td>33,312,843</td>\n",
       "      <td>1,246,620 km²</td>\n",
       "      <td>Africa</td>\n",
       "      <td>YES</td>\n",
       "      <td>None</td>\n",
       "    </tr>\n",
       "  </tbody>\n",
       "</table>\n",
       "</div>"
      ],
      "text/plain": [
       "    Nome Comum                     Nome Oficial Código Alpha-2  \\\n",
       "0  Afghanistan  Islamic Republic of Afghanistan             AF   \n",
       "1      Albania  Republic of Albania | Shqipëria             AL   \n",
       "2      Algeria   Democratic Republic of Algeria             DZ   \n",
       "3      Andorra          Principality of Andorra             AD   \n",
       "4       Angola               Republic of Angola             AO   \n",
       "\n",
       "            Capital   População           Área Continente Membro da ONU Status  \n",
       "0             Kabul  39,306,195    652,000 km²       Asia           YES   None  \n",
       "1            Tirana   2,876,490     28,748 km²     Europe           YES   None  \n",
       "2           Algiers  44,190,030  2,381,741 km²     Africa           YES   None  \n",
       "3  Andorra la Vella      77,317        468 km²     Europe           YES   None  \n",
       "4            Luanda  33,312,843  1,246,620 km²     Africa           YES   None  "
      ]
     },
     "execution_count": 35,
     "metadata": {},
     "output_type": "execute_result"
    }
   ],
   "source": [
    "db_path = 'dados_analise.db'\n",
    "nome_tabela_onu = \"onu\"\n",
    "nome_coluna_paises_membros = 'paises_membros_da_ONU'\n",
    "nome_coluna_nome_comum = 'Nome Comum'\n",
    "nome_coluna_membro_onu = 'Membro da ONU'\n",
    "\n",
    "conn = sqlite3.connect(db_path)\n",
    "nome_coluna_para_excluir = 'Independente'\n",
    "df_onu = df_onu.drop(columns=[nome_coluna_para_excluir], axis=1, errors='ignore')\n",
    "conn.close()\n",
    "\n",
    "\n",
    "df_onu.head() \n",
    "\n"
   ]
  },
  {
   "cell_type": "code",
   "execution_count": 36,
   "metadata": {},
   "outputs": [
    {
     "data": {
      "text/html": [
       "<div>\n",
       "<style scoped>\n",
       "    .dataframe tbody tr th:only-of-type {\n",
       "        vertical-align: middle;\n",
       "    }\n",
       "\n",
       "    .dataframe tbody tr th {\n",
       "        vertical-align: top;\n",
       "    }\n",
       "\n",
       "    .dataframe thead th {\n",
       "        text-align: right;\n",
       "    }\n",
       "</style>\n",
       "<table border=\"1\" class=\"dataframe\">\n",
       "  <thead>\n",
       "    <tr style=\"text-align: right;\">\n",
       "      <th></th>\n",
       "      <th>Nome Comum</th>\n",
       "      <th>Nome Oficial</th>\n",
       "      <th>Código Alpha-2</th>\n",
       "      <th>Capital</th>\n",
       "      <th>População</th>\n",
       "      <th>Área</th>\n",
       "      <th>Continente</th>\n",
       "      <th>Membro da ONU</th>\n",
       "    </tr>\n",
       "  </thead>\n",
       "  <tbody>\n",
       "    <tr>\n",
       "      <th>0</th>\n",
       "      <td>Afghanistan</td>\n",
       "      <td>Islamic Republic of Afghanistan</td>\n",
       "      <td>AF</td>\n",
       "      <td>Kabul</td>\n",
       "      <td>39,306,195</td>\n",
       "      <td>652,000 km²</td>\n",
       "      <td>Asia</td>\n",
       "      <td>YES</td>\n",
       "    </tr>\n",
       "    <tr>\n",
       "      <th>1</th>\n",
       "      <td>Albania</td>\n",
       "      <td>Republic of Albania | Shqipëria</td>\n",
       "      <td>AL</td>\n",
       "      <td>Tirana</td>\n",
       "      <td>2,876,490</td>\n",
       "      <td>28,748 km²</td>\n",
       "      <td>Europe</td>\n",
       "      <td>YES</td>\n",
       "    </tr>\n",
       "    <tr>\n",
       "      <th>2</th>\n",
       "      <td>Algeria</td>\n",
       "      <td>Democratic Republic of Algeria</td>\n",
       "      <td>DZ</td>\n",
       "      <td>Algiers</td>\n",
       "      <td>44,190,030</td>\n",
       "      <td>2,381,741 km²</td>\n",
       "      <td>Africa</td>\n",
       "      <td>YES</td>\n",
       "    </tr>\n",
       "    <tr>\n",
       "      <th>3</th>\n",
       "      <td>Andorra</td>\n",
       "      <td>Principality of Andorra</td>\n",
       "      <td>AD</td>\n",
       "      <td>Andorra la Vella</td>\n",
       "      <td>77,317</td>\n",
       "      <td>468 km²</td>\n",
       "      <td>Europe</td>\n",
       "      <td>YES</td>\n",
       "    </tr>\n",
       "    <tr>\n",
       "      <th>4</th>\n",
       "      <td>Angola</td>\n",
       "      <td>Republic of Angola</td>\n",
       "      <td>AO</td>\n",
       "      <td>Luanda</td>\n",
       "      <td>33,312,843</td>\n",
       "      <td>1,246,620 km²</td>\n",
       "      <td>Africa</td>\n",
       "      <td>YES</td>\n",
       "    </tr>\n",
       "  </tbody>\n",
       "</table>\n",
       "</div>"
      ],
      "text/plain": [
       "    Nome Comum                     Nome Oficial Código Alpha-2  \\\n",
       "0  Afghanistan  Islamic Republic of Afghanistan             AF   \n",
       "1      Albania  Republic of Albania | Shqipëria             AL   \n",
       "2      Algeria   Democratic Republic of Algeria             DZ   \n",
       "3      Andorra          Principality of Andorra             AD   \n",
       "4       Angola               Republic of Angola             AO   \n",
       "\n",
       "            Capital   População           Área Continente Membro da ONU  \n",
       "0             Kabul  39,306,195    652,000 km²       Asia           YES  \n",
       "1            Tirana   2,876,490     28,748 km²     Europe           YES  \n",
       "2           Algiers  44,190,030  2,381,741 km²     Africa           YES  \n",
       "3  Andorra la Vella      77,317        468 km²     Europe           YES  \n",
       "4            Luanda  33,312,843  1,246,620 km²     Africa           YES  "
      ]
     },
     "execution_count": 36,
     "metadata": {},
     "output_type": "execute_result"
    }
   ],
   "source": [
    "db_path = 'dados_analise.db'\n",
    "nome_tabela_onu = \"onu\"\n",
    "nome_coluna_paises_membros = 'paises_membros_da_ONU'\n",
    "nome_coluna_nome_comum = 'Nome Comum'\n",
    "nome_coluna_membro_onu = 'Membro da ONU'\n",
    "\n",
    "conn = sqlite3.connect(db_path)\n",
    "nome_coluna_para_excluir = 'Status'\n",
    "df_onu = df_onu.drop(columns=[nome_coluna_para_excluir], axis=1, errors='ignore')\n",
    "conn.close()\n",
    "\n",
    "\n",
    "df_onu.head() \n"
   ]
  },
  {
   "cell_type": "code",
   "execution_count": 37,
   "metadata": {},
   "outputs": [
    {
     "data": {
      "text/plain": [
       "Membro da ONU\n",
       "YES    186\n",
       "Name: count, dtype: int64"
      ]
     },
     "execution_count": 37,
     "metadata": {},
     "output_type": "execute_result"
    }
   ],
   "source": [
    "df_onu['Membro da ONU'].value_counts()"
   ]
  }
 ],
 "metadata": {
  "kernelspec": {
   "display_name": "Python 3",
   "language": "python",
   "name": "python3"
  },
  "language_info": {
   "codemirror_mode": {
    "name": "ipython",
    "version": 3
   },
   "file_extension": ".py",
   "mimetype": "text/x-python",
   "name": "python",
   "nbconvert_exporter": "python",
   "pygments_lexer": "ipython3",
   "version": "3.11.9"
  }
 },
 "nbformat": 4,
 "nbformat_minor": 2
}
