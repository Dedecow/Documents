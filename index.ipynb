{
 "cells": [
  {
   "cell_type": "code",
   "execution_count": 7,
   "metadata": {},
   "outputs": [],
   "source": [
    "import pandas as pd\n",
    "import numpy as np\n",
    "from datetime import datetime\n",
    "import requests\n",
    "import os\n",
    "import sqlite3\n",
    "from contextlib import contextmanager"
   ]
  },
  {
   "cell_type": "code",
   "execution_count": 8,
   "metadata": {},
   "outputs": [
    {
     "name": "stdout",
     "output_type": "stream",
     "text": [
      "Funciona!\n"
     ]
    }
   ],
   "source": [
    "token = \"2528|6LQUYU9ZOJdvF24GGo4hTMKKCghaM6pk5yYtCarj\"\n",
    "headers = {\n",
    "    \"Accept\": \"application/json\",\n",
    "    \"Authorization\": f\"Bearer {token}\"\n",
    "}\n",
    "url = \"https://restfulcountries.com/api/v1/countries\"\n",
    "response = requests.get(url, headers=headers)\n",
    "data1 = None\n",
    "if response.status_code == 200:\n",
    "    data = response.json()\n",
    "    data1 = data\n",
    "else:\n",
    "    print(f\"Erro na requisição: {response.status_code}\")\n",
    "    print(response.text)\n",
    "\n",
    "print('Funciona!')\n"
   ]
  },
  {
   "cell_type": "code",
   "execution_count": 9,
   "metadata": {},
   "outputs": [
    {
     "name": "stdout",
     "output_type": "stream",
     "text": [
      "O site está disponível (Status Code: 200).\n"
     ]
    }
   ],
   "source": [
    "def alerta(url, token):\n",
    "    headers = {\n",
    "        \"Accept\": \"application/json\",\n",
    "        \"Authorization\": f\"Bearer {token}\"\n",
    "    }\n",
    "    try:\n",
    "        response = requests.get(url, headers=headers)\n",
    "        if response.status_code == 200:\n",
    "            return response.status_code\n",
    "        else:\n",
    "            print(f\"Erro na requisição: Status Code {response.status_code}\")\n",
    "            print(response.text)\n",
    "            return None\n",
    "    except requests.exceptions.RequestException as e:\n",
    "        print(f\"Erro ao acessar a URL: {e}\")\n",
    "        return None\n",
    "\n",
    "token = \"2528|6LQUYU9ZOJdvF24GGo4hTMKKCghaM6pk5yYtCarj\"\n",
    "url = \"https://restfulcountries.com/api/v1/countries\"\n",
    "status_code = alerta(url, token)\n",
    "\n",
    "if status_code == 200:\n",
    "    print(f\"O site está disponível (Status Code: {status_code}).\")\n",
    "elif status_code is None:\n",
    "    print(\"O site pode estar indisponível ou houve um erro na requisição.\")\n"
   ]
  },
  {
   "cell_type": "code",
   "execution_count": 10,
   "metadata": {},
   "outputs": [],
   "source": [
    "def obter_dados_da_api(url, token):\n",
    "    try:\n",
    "        response = requests.get(url, token)\n",
    "        return response.json()\n",
    "    except requests.exceptions.RequestException as e:\n",
    "        print(f\"Erro ao acessar a API: {e}\")\n",
    "        return None\n"
   ]
  },
  {
   "cell_type": "code",
   "execution_count": 11,
   "metadata": {},
   "outputs": [],
   "source": [
    "def criar_dataframe(data):\n",
    "    if data is None:\n",
    "        return None\n",
    "    \n",
    "    paises = []\n",
    "    for pais in data['data']:\n",
    "        pais_info = {\n",
    "            'Nome Comum': pais['name'],\n",
    "            'Nome Oficial': pais['full_name'],\n",
    "            'Código Alpha-2': pais['iso2'],\n",
    "            'Capital': pais['capital']\n",
    "        }\n",
    "        paises.append(pais_info)\n",
    "    \n",
    "    return pd.DataFrame(paises)"
   ]
  },
  {
   "cell_type": "code",
   "execution_count": 12,
   "metadata": {},
   "outputs": [],
   "source": [
    "def criar_dataframe_populacao(data):\n",
    "    if data is None:\n",
    "        return None\n",
    "    \n",
    "    paises = []\n",
    "    for pais in data['data']:\n",
    "        pais_info = {\n",
    "            'Nome Comum': pais['name'],\n",
    "            'População': pais['covid19']['total_case'],\n",
    "            'Área': pais['size'],\n",
    "            'Continente': pais['continent']\n",
    "        }\n",
    "        paises.append(pais_info)\n",
    "    \n",
    "    return pd.DataFrame(paises)\n"
   ]
  },
  {
   "cell_type": "code",
   "execution_count": 13,
   "metadata": {},
   "outputs": [],
   "source": [
    "def criar_dataframe_membro_da_onu(data):\n",
    "    if data is None:\n",
    "        return None\n",
    "    \n",
    "    paises = []\n",
    "    for pais in data['data']:\n",
    "        pais_info = {\n",
    "            'Nome Comum': pais.get('name'),\n",
    "                        'Nome Oficial': pais.get('full_name'),\n",
    "                        'Código Alpha-2': pais.get('iso2'),\n",
    "                        'Capital': pais.get('capital'),\n",
    "                        'População': pais.get('population'),\n",
    "                        'Área': pais.get('size'),\n",
    "                        'Continente': pais.get('continent'),\n",
    "                        'Independente': pais.get('independent'),\n",
    "                        'Membro da ONU': pais.get('unMember'),\n",
    "                        'Status': pais.get('status'), \n",
    "        }\n",
    "        paises.append(pais_info)\n",
    "    \n",
    "    return pd.DataFrame(paises)"
   ]
  },
  {
   "cell_type": "code",
   "execution_count": 14,
   "metadata": {},
   "outputs": [],
   "source": [
    "df_paises = criar_dataframe(data)\n",
    "df_populacao = criar_dataframe_populacao(data)\n",
    "df_onu = criar_dataframe_membro_da_onu(data)"
   ]
  },
  {
   "cell_type": "markdown",
   "metadata": {},
   "source": [
    "##Salva DataFrames do Pandas em arquivos CSV, mas apenas se esses DataFrames específicos já existirem na memória do programa e não forem None"
   ]
  },
  {
   "cell_type": "code",
   "execution_count": 15,
   "metadata": {},
   "outputs": [],
   "source": [
    "db_path = os.path.join(\"C:\\\\Users\\\\EberPC\\\\Documents\\\\andrehbahia\", \"dados_paises.db\")"
   ]
  },
  {
   "cell_type": "code",
   "execution_count": 16,
   "metadata": {},
   "outputs": [
    {
     "name": "stdout",
     "output_type": "stream",
     "text": [
      "DataFrame 'df_paises' salvo na tabela 'paises' em 'C:\\Users\\EberPC\\Documents\\andrehbahia\\dados_analise.db'.\n",
      "DataFrame 'df_populacao' salvo na tabela 'populacao' em 'C:\\Users\\EberPC\\Documents\\andrehbahia\\dados_analise.db'.\n",
      "DataFrame 'df_onu' salvo na tabela 'onu' em 'C:\\Users\\EberPC\\Documents\\andrehbahia\\dados_analise.db'.\n"
     ]
    }
   ],
   "source": [
    "endereco_base = \"C:\\\\Users\\\\EberPC\\\\Documents\\\\andrehbahia\"\n",
    "db_path = os.path.join(endereco_base, \"dados_analise.db\")\n",
    "\n",
    "try:\n",
    "    # Conecta ao banco de dados (cria o arquivo se não existir)\n",
    "    conn = sqlite3.connect(db_path)\n",
    "    cursor = conn.cursor()\n",
    "\n",
    "    if 'df_paises' in locals() and df_paises is not None:\n",
    "        nome_tabela_paises = \"paises\"\n",
    "        df_paises.to_sql(nome_tabela_paises, conn, if_exists='replace', index=False)\n",
    "        print(f\"DataFrame 'df_paises' salvo na tabela '{nome_tabela_paises}' em '{db_path}'.\")\n",
    "\n",
    "    if 'df_populacao' in locals() and df_populacao is not None:\n",
    "        nome_tabela_populacao = \"populacao\"\n",
    "        df_populacao.to_sql(nome_tabela_populacao, conn, if_exists='replace', index=False)\n",
    "        print(f\"DataFrame 'df_populacao' salvo na tabela '{nome_tabela_populacao}' em '{db_path}'.\")\n",
    "\n",
    "    if 'df_onu' in locals() and df_onu is not None:\n",
    "        nome_tabela_onu = \"onu\"\n",
    "        df_onu.to_sql(nome_tabela_onu, conn, if_exists='replace', index=False)\n",
    "        print(f\"DataFrame 'df_onu' salvo na tabela '{nome_tabela_onu}' em '{db_path}'.\")\n",
    "\n",
    "    # Commit as alterações\n",
    "    conn.commit()\n",
    "\n",
    "except sqlite3.Error as e:\n",
    "    print(f\"Erro ao interagir com o banco de dados SQLite: {e}\")\n",
    "\n",
    "finally:\n",
    "    # Fecha a conexão\n",
    "    if conn:\n",
    "        conn.close()"
   ]
  },
  {
   "cell_type": "code",
   "execution_count": 17,
   "metadata": {},
   "outputs": [
    {
     "name": "stdout",
     "output_type": "stream",
     "text": [
      "paises\n",
      "populacao\n",
      "onu\n"
     ]
    }
   ],
   "source": [
    "conn = sqlite3.connect(db_path)\n",
    "cursor = conn.cursor()\n",
    "cursor.execute(\"SELECT name FROM sqlite_master WHERE type='table';\")\n",
    "tables = cursor.fetchall()\n",
    "for table in tables:\n",
    "    print(table[0])\n",
    "conn.close()"
   ]
  },
  {
   "cell_type": "code",
   "execution_count": 18,
   "metadata": {},
   "outputs": [
    {
     "data": {
      "text/html": [
       "<div>\n",
       "<style scoped>\n",
       "    .dataframe tbody tr th:only-of-type {\n",
       "        vertical-align: middle;\n",
       "    }\n",
       "\n",
       "    .dataframe tbody tr th {\n",
       "        vertical-align: top;\n",
       "    }\n",
       "\n",
       "    .dataframe thead th {\n",
       "        text-align: right;\n",
       "    }\n",
       "</style>\n",
       "<table border=\"1\" class=\"dataframe\">\n",
       "  <thead>\n",
       "    <tr style=\"text-align: right;\">\n",
       "      <th></th>\n",
       "      <th>Nome Comum</th>\n",
       "      <th>Nome Oficial</th>\n",
       "      <th>Código Alpha-2</th>\n",
       "      <th>Capital</th>\n",
       "    </tr>\n",
       "  </thead>\n",
       "  <tbody>\n",
       "    <tr>\n",
       "      <th>0</th>\n",
       "      <td>Afghanistan</td>\n",
       "      <td>Islamic Republic of Afghanistan</td>\n",
       "      <td>AF</td>\n",
       "      <td>Kabul</td>\n",
       "    </tr>\n",
       "    <tr>\n",
       "      <th>1</th>\n",
       "      <td>Albania</td>\n",
       "      <td>Republic of Albania | Shqipëria</td>\n",
       "      <td>AL</td>\n",
       "      <td>Tirana</td>\n",
       "    </tr>\n",
       "    <tr>\n",
       "      <th>2</th>\n",
       "      <td>Algeria</td>\n",
       "      <td>Democratic Republic of Algeria</td>\n",
       "      <td>DZ</td>\n",
       "      <td>Algiers</td>\n",
       "    </tr>\n",
       "    <tr>\n",
       "      <th>3</th>\n",
       "      <td>Andorra</td>\n",
       "      <td>Principality of Andorra</td>\n",
       "      <td>AD</td>\n",
       "      <td>Andorra la Vella</td>\n",
       "    </tr>\n",
       "    <tr>\n",
       "      <th>4</th>\n",
       "      <td>Angola</td>\n",
       "      <td>Republic of Angola</td>\n",
       "      <td>AO</td>\n",
       "      <td>Luanda</td>\n",
       "    </tr>\n",
       "  </tbody>\n",
       "</table>\n",
       "</div>"
      ],
      "text/plain": [
       "    Nome Comum                     Nome Oficial Código Alpha-2  \\\n",
       "0  Afghanistan  Islamic Republic of Afghanistan             AF   \n",
       "1      Albania  Republic of Albania | Shqipëria             AL   \n",
       "2      Algeria   Democratic Republic of Algeria             DZ   \n",
       "3      Andorra          Principality of Andorra             AD   \n",
       "4       Angola               Republic of Angola             AO   \n",
       "\n",
       "            Capital  \n",
       "0             Kabul  \n",
       "1            Tirana  \n",
       "2           Algiers  \n",
       "3  Andorra la Vella  \n",
       "4            Luanda  "
      ]
     },
     "execution_count": 18,
     "metadata": {},
     "output_type": "execute_result"
    }
   ],
   "source": [
    "conn = sqlite3.connect(db_path)\n",
    "df_paises = pd.read_sql_query(f\"SELECT * FROM {nome_tabela_paises}\", conn)\n",
    "conn.close()\n",
    "\n",
    "df_paises.head()"
   ]
  },
  {
   "cell_type": "code",
   "execution_count": 19,
   "metadata": {},
   "outputs": [
    {
     "name": "stdout",
     "output_type": "stream",
     "text": [
      "<class 'pandas.core.frame.DataFrame'>\n",
      "RangeIndex: 186 entries, 0 to 185\n",
      "Data columns (total 4 columns):\n",
      " #   Column          Non-Null Count  Dtype \n",
      "---  ------          --------------  ----- \n",
      " 0   Nome Comum      186 non-null    object\n",
      " 1   Nome Oficial    184 non-null    object\n",
      " 2   Código Alpha-2  186 non-null    object\n",
      " 3   Capital         186 non-null    object\n",
      "dtypes: object(4)\n",
      "memory usage: 5.9+ KB\n"
     ]
    }
   ],
   "source": [
    "df_paises.info()"
   ]
  },
  {
   "cell_type": "code",
   "execution_count": 20,
   "metadata": {},
   "outputs": [
    {
     "data": {
      "text/plain": [
       "(186, 4)"
      ]
     },
     "execution_count": 20,
     "metadata": {},
     "output_type": "execute_result"
    }
   ],
   "source": [
    "df_paises.shape"
   ]
  },
  {
   "cell_type": "code",
   "execution_count": 21,
   "metadata": {},
   "outputs": [
    {
     "data": {
      "text/plain": [
       "Index(['Nome Comum', 'Nome Oficial', 'Código Alpha-2', 'Capital'], dtype='object')"
      ]
     },
     "execution_count": 21,
     "metadata": {},
     "output_type": "execute_result"
    }
   ],
   "source": [
    "df_paises.columns"
   ]
  },
  {
   "cell_type": "code",
   "execution_count": 22,
   "metadata": {},
   "outputs": [
    {
     "data": {
      "text/html": [
       "<div>\n",
       "<style scoped>\n",
       "    .dataframe tbody tr th:only-of-type {\n",
       "        vertical-align: middle;\n",
       "    }\n",
       "\n",
       "    .dataframe tbody tr th {\n",
       "        vertical-align: top;\n",
       "    }\n",
       "\n",
       "    .dataframe thead th {\n",
       "        text-align: right;\n",
       "    }\n",
       "</style>\n",
       "<table border=\"1\" class=\"dataframe\">\n",
       "  <thead>\n",
       "    <tr style=\"text-align: right;\">\n",
       "      <th></th>\n",
       "      <th>Nome Comum</th>\n",
       "      <th>População</th>\n",
       "      <th>Área</th>\n",
       "      <th>Continente</th>\n",
       "    </tr>\n",
       "  </thead>\n",
       "  <tbody>\n",
       "    <tr>\n",
       "      <th>0</th>\n",
       "      <td>Afghanistan</td>\n",
       "      <td>46,498</td>\n",
       "      <td>652,000 km²</td>\n",
       "      <td>Asia</td>\n",
       "    </tr>\n",
       "    <tr>\n",
       "      <th>1</th>\n",
       "      <td>Albania</td>\n",
       "      <td>37,625</td>\n",
       "      <td>28,748 km²</td>\n",
       "      <td>Europe</td>\n",
       "    </tr>\n",
       "    <tr>\n",
       "      <th>2</th>\n",
       "      <td>Algeria</td>\n",
       "      <td>83,199</td>\n",
       "      <td>2,381,741 km²</td>\n",
       "      <td>Africa</td>\n",
       "    </tr>\n",
       "    <tr>\n",
       "      <th>3</th>\n",
       "      <td>Andorra</td>\n",
       "      <td>6,712</td>\n",
       "      <td>468 km²</td>\n",
       "      <td>Europe</td>\n",
       "    </tr>\n",
       "    <tr>\n",
       "      <th>4</th>\n",
       "      <td>Angola</td>\n",
       "      <td>15,139</td>\n",
       "      <td>1,246,620 km²</td>\n",
       "      <td>Africa</td>\n",
       "    </tr>\n",
       "  </tbody>\n",
       "</table>\n",
       "</div>"
      ],
      "text/plain": [
       "    Nome Comum População           Área Continente\n",
       "0  Afghanistan    46,498    652,000 km²       Asia\n",
       "1      Albania    37,625     28,748 km²     Europe\n",
       "2      Algeria    83,199  2,381,741 km²     Africa\n",
       "3      Andorra     6,712        468 km²     Europe\n",
       "4       Angola    15,139  1,246,620 km²     Africa"
      ]
     },
     "execution_count": 22,
     "metadata": {},
     "output_type": "execute_result"
    }
   ],
   "source": [
    "conn = sqlite3.connect(db_path)\n",
    "df_populacao = pd.read_sql_query(f\"SELECT * FROM {nome_tabela_populacao}\", conn)\n",
    "conn.close()\n",
    "df_populacao.head()"
   ]
  },
  {
   "cell_type": "code",
   "execution_count": 23,
   "metadata": {},
   "outputs": [
    {
     "name": "stdout",
     "output_type": "stream",
     "text": [
      "<class 'pandas.core.frame.DataFrame'>\n",
      "RangeIndex: 186 entries, 0 to 185\n",
      "Data columns (total 4 columns):\n",
      " #   Column      Non-Null Count  Dtype \n",
      "---  ------      --------------  ----- \n",
      " 0   Nome Comum  186 non-null    object\n",
      " 1   População   186 non-null    object\n",
      " 2   Área        186 non-null    object\n",
      " 3   Continente  184 non-null    object\n",
      "dtypes: object(4)\n",
      "memory usage: 5.9+ KB\n"
     ]
    }
   ],
   "source": [
    "df_populacao.info()"
   ]
  },
  {
   "cell_type": "code",
   "execution_count": 24,
   "metadata": {},
   "outputs": [
    {
     "data": {
      "text/plain": [
       "(186, 4)"
      ]
     },
     "execution_count": 24,
     "metadata": {},
     "output_type": "execute_result"
    }
   ],
   "source": [
    "df_populacao.shape"
   ]
  },
  {
   "cell_type": "code",
   "execution_count": 25,
   "metadata": {},
   "outputs": [
    {
     "data": {
      "text/plain": [
       "Index(['Nome Comum', 'População', 'Área', 'Continente'], dtype='object')"
      ]
     },
     "execution_count": 25,
     "metadata": {},
     "output_type": "execute_result"
    }
   ],
   "source": [
    "df_populacao.columns"
   ]
  },
  {
   "cell_type": "code",
   "execution_count": 26,
   "metadata": {},
   "outputs": [
    {
     "data": {
      "text/html": [
       "<div>\n",
       "<style scoped>\n",
       "    .dataframe tbody tr th:only-of-type {\n",
       "        vertical-align: middle;\n",
       "    }\n",
       "\n",
       "    .dataframe tbody tr th {\n",
       "        vertical-align: top;\n",
       "    }\n",
       "\n",
       "    .dataframe thead th {\n",
       "        text-align: right;\n",
       "    }\n",
       "</style>\n",
       "<table border=\"1\" class=\"dataframe\">\n",
       "  <thead>\n",
       "    <tr style=\"text-align: right;\">\n",
       "      <th></th>\n",
       "      <th>Nome Comum</th>\n",
       "      <th>Nome Oficial</th>\n",
       "      <th>Código Alpha-2</th>\n",
       "      <th>Capital</th>\n",
       "      <th>População</th>\n",
       "      <th>Área</th>\n",
       "      <th>Continente</th>\n",
       "      <th>Independente</th>\n",
       "      <th>Membro da ONU</th>\n",
       "      <th>Status</th>\n",
       "    </tr>\n",
       "  </thead>\n",
       "  <tbody>\n",
       "    <tr>\n",
       "      <th>0</th>\n",
       "      <td>Afghanistan</td>\n",
       "      <td>Islamic Republic of Afghanistan</td>\n",
       "      <td>AF</td>\n",
       "      <td>Kabul</td>\n",
       "      <td>39,306,195</td>\n",
       "      <td>652,000 km²</td>\n",
       "      <td>Asia</td>\n",
       "      <td>None</td>\n",
       "      <td>None</td>\n",
       "      <td>None</td>\n",
       "    </tr>\n",
       "    <tr>\n",
       "      <th>1</th>\n",
       "      <td>Albania</td>\n",
       "      <td>Republic of Albania | Shqipëria</td>\n",
       "      <td>AL</td>\n",
       "      <td>Tirana</td>\n",
       "      <td>2,876,490</td>\n",
       "      <td>28,748 km²</td>\n",
       "      <td>Europe</td>\n",
       "      <td>None</td>\n",
       "      <td>None</td>\n",
       "      <td>None</td>\n",
       "    </tr>\n",
       "    <tr>\n",
       "      <th>2</th>\n",
       "      <td>Algeria</td>\n",
       "      <td>Democratic Republic of Algeria</td>\n",
       "      <td>DZ</td>\n",
       "      <td>Algiers</td>\n",
       "      <td>44,190,030</td>\n",
       "      <td>2,381,741 km²</td>\n",
       "      <td>Africa</td>\n",
       "      <td>None</td>\n",
       "      <td>None</td>\n",
       "      <td>None</td>\n",
       "    </tr>\n",
       "    <tr>\n",
       "      <th>3</th>\n",
       "      <td>Andorra</td>\n",
       "      <td>Principality of Andorra</td>\n",
       "      <td>AD</td>\n",
       "      <td>Andorra la Vella</td>\n",
       "      <td>77,317</td>\n",
       "      <td>468 km²</td>\n",
       "      <td>Europe</td>\n",
       "      <td>None</td>\n",
       "      <td>None</td>\n",
       "      <td>None</td>\n",
       "    </tr>\n",
       "    <tr>\n",
       "      <th>4</th>\n",
       "      <td>Angola</td>\n",
       "      <td>Republic of Angola</td>\n",
       "      <td>AO</td>\n",
       "      <td>Luanda</td>\n",
       "      <td>33,312,843</td>\n",
       "      <td>1,246,620 km²</td>\n",
       "      <td>Africa</td>\n",
       "      <td>None</td>\n",
       "      <td>None</td>\n",
       "      <td>None</td>\n",
       "    </tr>\n",
       "  </tbody>\n",
       "</table>\n",
       "</div>"
      ],
      "text/plain": [
       "    Nome Comum                     Nome Oficial Código Alpha-2  \\\n",
       "0  Afghanistan  Islamic Republic of Afghanistan             AF   \n",
       "1      Albania  Republic of Albania | Shqipëria             AL   \n",
       "2      Algeria   Democratic Republic of Algeria             DZ   \n",
       "3      Andorra          Principality of Andorra             AD   \n",
       "4       Angola               Republic of Angola             AO   \n",
       "\n",
       "            Capital   População           Área Continente Independente  \\\n",
       "0             Kabul  39,306,195    652,000 km²       Asia         None   \n",
       "1            Tirana   2,876,490     28,748 km²     Europe         None   \n",
       "2           Algiers  44,190,030  2,381,741 km²     Africa         None   \n",
       "3  Andorra la Vella      77,317        468 km²     Europe         None   \n",
       "4            Luanda  33,312,843  1,246,620 km²     Africa         None   \n",
       "\n",
       "  Membro da ONU Status  \n",
       "0          None   None  \n",
       "1          None   None  \n",
       "2          None   None  \n",
       "3          None   None  \n",
       "4          None   None  "
      ]
     },
     "execution_count": 26,
     "metadata": {},
     "output_type": "execute_result"
    }
   ],
   "source": [
    "conn = sqlite3.connect(db_path)\n",
    "df_onu = pd.read_sql_query(f\"SELECT * FROM {nome_tabela_onu}\", conn)\n",
    "conn.close()\n",
    "df_onu.head()"
   ]
  },
  {
   "cell_type": "code",
   "execution_count": 27,
   "metadata": {},
   "outputs": [
    {
     "name": "stdout",
     "output_type": "stream",
     "text": [
      "<class 'pandas.core.frame.DataFrame'>\n",
      "RangeIndex: 186 entries, 0 to 185\n",
      "Data columns (total 10 columns):\n",
      " #   Column          Non-Null Count  Dtype \n",
      "---  ------          --------------  ----- \n",
      " 0   Nome Comum      186 non-null    object\n",
      " 1   Nome Oficial    184 non-null    object\n",
      " 2   Código Alpha-2  186 non-null    object\n",
      " 3   Capital         186 non-null    object\n",
      " 4   População       186 non-null    object\n",
      " 5   Área            186 non-null    object\n",
      " 6   Continente      184 non-null    object\n",
      " 7   Independente    0 non-null      object\n",
      " 8   Membro da ONU   0 non-null      object\n",
      " 9   Status          0 non-null      object\n",
      "dtypes: object(10)\n",
      "memory usage: 14.7+ KB\n"
     ]
    }
   ],
   "source": [
    "df_onu.info()"
   ]
  },
  {
   "cell_type": "code",
   "execution_count": 28,
   "metadata": {},
   "outputs": [
    {
     "data": {
      "text/plain": [
       "(186, 10)"
      ]
     },
     "execution_count": 28,
     "metadata": {},
     "output_type": "execute_result"
    }
   ],
   "source": [
    "df_onu.shape"
   ]
  },
  {
   "cell_type": "code",
   "execution_count": 29,
   "metadata": {},
   "outputs": [
    {
     "data": {
      "text/plain": [
       "Index(['Nome Comum', 'Nome Oficial', 'Código Alpha-2', 'Capital', 'População',\n",
       "       'Área', 'Continente', 'Independente', 'Membro da ONU', 'Status'],\n",
       "      dtype='object')"
      ]
     },
     "execution_count": 29,
     "metadata": {},
     "output_type": "execute_result"
    }
   ],
   "source": [
    "df_onu.columns"
   ]
  },
  {
   "cell_type": "code",
   "execution_count": 30,
   "metadata": {},
   "outputs": [
    {
     "name": "stdout",
     "output_type": "stream",
     "text": [
      "Nome Comum\n",
      "Nome Oficial\n",
      "Código Alpha-2\n",
      "Capital\n",
      "População\n",
      "Área\n",
      "Continente\n",
      "Independente\n",
      "Membro da ONU\n",
      "Status\n"
     ]
    }
   ],
   "source": [
    "nome_tabela = \"onu\"\n",
    "conn = sqlite3.connect(db_path)\n",
    "cursor = conn.cursor()\n",
    "cursor.execute(f\"PRAGMA table_info({nome_tabela});\")\n",
    "columns_info = cursor.fetchall()\n",
    "for column in columns_info:\n",
    "    print(column[1])"
   ]
  },
  {
   "cell_type": "markdown",
   "metadata": {},
   "source": [
    "## Problema com Dados de Filiados da ONU e Busca na API\n",
    "\n",
    "Precisei buscar informações mais precisas e atualizadas diretamente na **API oficial da ONU**.\n"
   ]
  },
  {
   "cell_type": "code",
   "execution_count": 31,
   "metadata": {},
   "outputs": [
    {
     "data": {
      "text/plain": [
       "Index(['name', 'full_name', 'capital', 'iso2', 'iso3', 'covid19',\n",
       "       'current_president', 'currency', 'phone_code', 'continent',\n",
       "       'description', 'size', 'independence_date', 'population', 'href'],\n",
       "      dtype='object')"
      ]
     },
     "execution_count": 31,
     "metadata": {},
     "output_type": "execute_result"
    }
   ],
   "source": [
    "url = 'https://population.un.org/dataportalapi/api/v1/locais'\n",
    "\n",
    "if response.status_code == 200:\n",
    "    membros_onu = response.json()\n",
    "else:\n",
    "    print(f\"Erro na requisição: {response.status_code}\")\n",
    "    print(response.text)\n",
    "\n",
    "df_membros = pd.DataFrame(membros_onu['data'])\n",
    "df_membros.columns\n"
   ]
  },
  {
   "cell_type": "code",
   "execution_count": 43,
   "metadata": {},
   "outputs": [
    {
     "ename": "ProgrammingError",
     "evalue": "Error binding parameter 6: type 'dict' is not supported",
     "output_type": "error",
     "traceback": [
      "\u001b[31m---------------------------------------------------------------------------\u001b[39m",
      "\u001b[31mProgrammingError\u001b[39m                          Traceback (most recent call last)",
      "\u001b[36mCell\u001b[39m\u001b[36m \u001b[39m\u001b[32mIn[43]\u001b[39m\u001b[32m, line 12\u001b[39m\n\u001b[32m      9\u001b[39m conn = sqlite3.connect(db_path)\n\u001b[32m     11\u001b[39m \u001b[38;5;66;03m# Criar a tabela transitória\u001b[39;00m\n\u001b[32m---> \u001b[39m\u001b[32m12\u001b[39m \u001b[43mdf_membros\u001b[49m\u001b[43m.\u001b[49m\u001b[43mto_sql\u001b[49m\u001b[43m(\u001b[49m\u001b[33;43m'\u001b[39;49m\u001b[33;43mmembros_transitorio\u001b[39;49m\u001b[33;43m'\u001b[39;49m\u001b[43m,\u001b[49m\u001b[43m \u001b[49m\u001b[43mconn\u001b[49m\u001b[43m,\u001b[49m\u001b[43m \u001b[49m\u001b[43mif_exists\u001b[49m\u001b[43m=\u001b[49m\u001b[33;43m'\u001b[39;49m\u001b[33;43mreplace\u001b[39;49m\u001b[33;43m'\u001b[39;49m\u001b[43m,\u001b[49m\u001b[43m \u001b[49m\u001b[43mindex\u001b[49m\u001b[43m=\u001b[49m\u001b[38;5;28;43;01mFalse\u001b[39;49;00m\u001b[43m)\u001b[49m\n\u001b[32m     14\u001b[39m \u001b[38;5;28mprint\u001b[39m(\u001b[33m\"\u001b[39m\u001b[33mTabela transitória \u001b[39m\u001b[33m'\u001b[39m\u001b[33mmembros_transitorio\u001b[39m\u001b[33m'\u001b[39m\u001b[33m criada com sucesso.\u001b[39m\u001b[33m\"\u001b[39m)\n\u001b[32m     16\u001b[39m conn.close()\n",
      "\u001b[36mFile \u001b[39m\u001b[32m~\\AppData\\Local\\Packages\\PythonSoftwareFoundation.Python.3.11_qbz5n2kfra8p0\\LocalCache\\local-packages\\Python311\\site-packages\\pandas\\util\\_decorators.py:333\u001b[39m, in \u001b[36mdeprecate_nonkeyword_arguments.<locals>.decorate.<locals>.wrapper\u001b[39m\u001b[34m(*args, **kwargs)\u001b[39m\n\u001b[32m    327\u001b[39m \u001b[38;5;28;01mif\u001b[39;00m \u001b[38;5;28mlen\u001b[39m(args) > num_allow_args:\n\u001b[32m    328\u001b[39m     warnings.warn(\n\u001b[32m    329\u001b[39m         msg.format(arguments=_format_argument_list(allow_args)),\n\u001b[32m    330\u001b[39m         \u001b[38;5;167;01mFutureWarning\u001b[39;00m,\n\u001b[32m    331\u001b[39m         stacklevel=find_stack_level(),\n\u001b[32m    332\u001b[39m     )\n\u001b[32m--> \u001b[39m\u001b[32m333\u001b[39m \u001b[38;5;28;01mreturn\u001b[39;00m \u001b[43mfunc\u001b[49m\u001b[43m(\u001b[49m\u001b[43m*\u001b[49m\u001b[43margs\u001b[49m\u001b[43m,\u001b[49m\u001b[43m \u001b[49m\u001b[43m*\u001b[49m\u001b[43m*\u001b[49m\u001b[43mkwargs\u001b[49m\u001b[43m)\u001b[49m\n",
      "\u001b[36mFile \u001b[39m\u001b[32m~\\AppData\\Local\\Packages\\PythonSoftwareFoundation.Python.3.11_qbz5n2kfra8p0\\LocalCache\\local-packages\\Python311\\site-packages\\pandas\\core\\generic.py:3087\u001b[39m, in \u001b[36mNDFrame.to_sql\u001b[39m\u001b[34m(self, name, con, schema, if_exists, index, index_label, chunksize, dtype, method)\u001b[39m\n\u001b[32m   2889\u001b[39m \u001b[38;5;250m\u001b[39m\u001b[33;03m\"\"\"\u001b[39;00m\n\u001b[32m   2890\u001b[39m \u001b[33;03mWrite records stored in a DataFrame to a SQL database.\u001b[39;00m\n\u001b[32m   2891\u001b[39m \n\u001b[32m   (...)\u001b[39m\u001b[32m   3083\u001b[39m \u001b[33;03m[(1,), (None,), (2,)]\u001b[39;00m\n\u001b[32m   3084\u001b[39m \u001b[33;03m\"\"\"\u001b[39;00m  \u001b[38;5;66;03m# noqa: E501\u001b[39;00m\n\u001b[32m   3085\u001b[39m \u001b[38;5;28;01mfrom\u001b[39;00m\u001b[38;5;250m \u001b[39m\u001b[34;01mpandas\u001b[39;00m\u001b[34;01m.\u001b[39;00m\u001b[34;01mio\u001b[39;00m\u001b[38;5;250m \u001b[39m\u001b[38;5;28;01mimport\u001b[39;00m sql\n\u001b[32m-> \u001b[39m\u001b[32m3087\u001b[39m \u001b[38;5;28;01mreturn\u001b[39;00m \u001b[43msql\u001b[49m\u001b[43m.\u001b[49m\u001b[43mto_sql\u001b[49m\u001b[43m(\u001b[49m\n\u001b[32m   3088\u001b[39m \u001b[43m    \u001b[49m\u001b[38;5;28;43mself\u001b[39;49m\u001b[43m,\u001b[49m\n\u001b[32m   3089\u001b[39m \u001b[43m    \u001b[49m\u001b[43mname\u001b[49m\u001b[43m,\u001b[49m\n\u001b[32m   3090\u001b[39m \u001b[43m    \u001b[49m\u001b[43mcon\u001b[49m\u001b[43m,\u001b[49m\n\u001b[32m   3091\u001b[39m \u001b[43m    \u001b[49m\u001b[43mschema\u001b[49m\u001b[43m=\u001b[49m\u001b[43mschema\u001b[49m\u001b[43m,\u001b[49m\n\u001b[32m   3092\u001b[39m \u001b[43m    \u001b[49m\u001b[43mif_exists\u001b[49m\u001b[43m=\u001b[49m\u001b[43mif_exists\u001b[49m\u001b[43m,\u001b[49m\n\u001b[32m   3093\u001b[39m \u001b[43m    \u001b[49m\u001b[43mindex\u001b[49m\u001b[43m=\u001b[49m\u001b[43mindex\u001b[49m\u001b[43m,\u001b[49m\n\u001b[32m   3094\u001b[39m \u001b[43m    \u001b[49m\u001b[43mindex_label\u001b[49m\u001b[43m=\u001b[49m\u001b[43mindex_label\u001b[49m\u001b[43m,\u001b[49m\n\u001b[32m   3095\u001b[39m \u001b[43m    \u001b[49m\u001b[43mchunksize\u001b[49m\u001b[43m=\u001b[49m\u001b[43mchunksize\u001b[49m\u001b[43m,\u001b[49m\n\u001b[32m   3096\u001b[39m \u001b[43m    \u001b[49m\u001b[43mdtype\u001b[49m\u001b[43m=\u001b[49m\u001b[43mdtype\u001b[49m\u001b[43m,\u001b[49m\n\u001b[32m   3097\u001b[39m \u001b[43m    \u001b[49m\u001b[43mmethod\u001b[49m\u001b[43m=\u001b[49m\u001b[43mmethod\u001b[49m\u001b[43m,\u001b[49m\n\u001b[32m   3098\u001b[39m \u001b[43m\u001b[49m\u001b[43m)\u001b[49m\n",
      "\u001b[36mFile \u001b[39m\u001b[32m~\\AppData\\Local\\Packages\\PythonSoftwareFoundation.Python.3.11_qbz5n2kfra8p0\\LocalCache\\local-packages\\Python311\\site-packages\\pandas\\io\\sql.py:842\u001b[39m, in \u001b[36mto_sql\u001b[39m\u001b[34m(frame, name, con, schema, if_exists, index, index_label, chunksize, dtype, method, engine, **engine_kwargs)\u001b[39m\n\u001b[32m    837\u001b[39m     \u001b[38;5;28;01mraise\u001b[39;00m \u001b[38;5;167;01mNotImplementedError\u001b[39;00m(\n\u001b[32m    838\u001b[39m         \u001b[33m\"\u001b[39m\u001b[33m'\u001b[39m\u001b[33mframe\u001b[39m\u001b[33m'\u001b[39m\u001b[33m argument should be either a Series or a DataFrame\u001b[39m\u001b[33m\"\u001b[39m\n\u001b[32m    839\u001b[39m     )\n\u001b[32m    841\u001b[39m \u001b[38;5;28;01mwith\u001b[39;00m pandasSQL_builder(con, schema=schema, need_transaction=\u001b[38;5;28;01mTrue\u001b[39;00m) \u001b[38;5;28;01mas\u001b[39;00m pandas_sql:\n\u001b[32m--> \u001b[39m\u001b[32m842\u001b[39m     \u001b[38;5;28;01mreturn\u001b[39;00m \u001b[43mpandas_sql\u001b[49m\u001b[43m.\u001b[49m\u001b[43mto_sql\u001b[49m\u001b[43m(\u001b[49m\n\u001b[32m    843\u001b[39m \u001b[43m        \u001b[49m\u001b[43mframe\u001b[49m\u001b[43m,\u001b[49m\n\u001b[32m    844\u001b[39m \u001b[43m        \u001b[49m\u001b[43mname\u001b[49m\u001b[43m,\u001b[49m\n\u001b[32m    845\u001b[39m \u001b[43m        \u001b[49m\u001b[43mif_exists\u001b[49m\u001b[43m=\u001b[49m\u001b[43mif_exists\u001b[49m\u001b[43m,\u001b[49m\n\u001b[32m    846\u001b[39m \u001b[43m        \u001b[49m\u001b[43mindex\u001b[49m\u001b[43m=\u001b[49m\u001b[43mindex\u001b[49m\u001b[43m,\u001b[49m\n\u001b[32m    847\u001b[39m \u001b[43m        \u001b[49m\u001b[43mindex_label\u001b[49m\u001b[43m=\u001b[49m\u001b[43mindex_label\u001b[49m\u001b[43m,\u001b[49m\n\u001b[32m    848\u001b[39m \u001b[43m        \u001b[49m\u001b[43mschema\u001b[49m\u001b[43m=\u001b[49m\u001b[43mschema\u001b[49m\u001b[43m,\u001b[49m\n\u001b[32m    849\u001b[39m \u001b[43m        \u001b[49m\u001b[43mchunksize\u001b[49m\u001b[43m=\u001b[49m\u001b[43mchunksize\u001b[49m\u001b[43m,\u001b[49m\n\u001b[32m    850\u001b[39m \u001b[43m        \u001b[49m\u001b[43mdtype\u001b[49m\u001b[43m=\u001b[49m\u001b[43mdtype\u001b[49m\u001b[43m,\u001b[49m\n\u001b[32m    851\u001b[39m \u001b[43m        \u001b[49m\u001b[43mmethod\u001b[49m\u001b[43m=\u001b[49m\u001b[43mmethod\u001b[49m\u001b[43m,\u001b[49m\n\u001b[32m    852\u001b[39m \u001b[43m        \u001b[49m\u001b[43mengine\u001b[49m\u001b[43m=\u001b[49m\u001b[43mengine\u001b[49m\u001b[43m,\u001b[49m\n\u001b[32m    853\u001b[39m \u001b[43m        \u001b[49m\u001b[43m*\u001b[49m\u001b[43m*\u001b[49m\u001b[43mengine_kwargs\u001b[49m\u001b[43m,\u001b[49m\n\u001b[32m    854\u001b[39m \u001b[43m    \u001b[49m\u001b[43m)\u001b[49m\n",
      "\u001b[36mFile \u001b[39m\u001b[32m~\\AppData\\Local\\Packages\\PythonSoftwareFoundation.Python.3.11_qbz5n2kfra8p0\\LocalCache\\local-packages\\Python311\\site-packages\\pandas\\io\\sql.py:2851\u001b[39m, in \u001b[36mSQLiteDatabase.to_sql\u001b[39m\u001b[34m(self, frame, name, if_exists, index, index_label, schema, chunksize, dtype, method, engine, **engine_kwargs)\u001b[39m\n\u001b[32m   2841\u001b[39m table = SQLiteTable(\n\u001b[32m   2842\u001b[39m     name,\n\u001b[32m   2843\u001b[39m     \u001b[38;5;28mself\u001b[39m,\n\u001b[32m   (...)\u001b[39m\u001b[32m   2848\u001b[39m     dtype=dtype,\n\u001b[32m   2849\u001b[39m )\n\u001b[32m   2850\u001b[39m table.create()\n\u001b[32m-> \u001b[39m\u001b[32m2851\u001b[39m \u001b[38;5;28;01mreturn\u001b[39;00m \u001b[43mtable\u001b[49m\u001b[43m.\u001b[49m\u001b[43minsert\u001b[49m\u001b[43m(\u001b[49m\u001b[43mchunksize\u001b[49m\u001b[43m,\u001b[49m\u001b[43m \u001b[49m\u001b[43mmethod\u001b[49m\u001b[43m)\u001b[49m\n",
      "\u001b[36mFile \u001b[39m\u001b[32m~\\AppData\\Local\\Packages\\PythonSoftwareFoundation.Python.3.11_qbz5n2kfra8p0\\LocalCache\\local-packages\\Python311\\site-packages\\pandas\\io\\sql.py:1119\u001b[39m, in \u001b[36mSQLTable.insert\u001b[39m\u001b[34m(self, chunksize, method)\u001b[39m\n\u001b[32m   1116\u001b[39m     \u001b[38;5;28;01mbreak\u001b[39;00m\n\u001b[32m   1118\u001b[39m chunk_iter = \u001b[38;5;28mzip\u001b[39m(*(arr[start_i:end_i] \u001b[38;5;28;01mfor\u001b[39;00m arr \u001b[38;5;129;01min\u001b[39;00m data_list))\n\u001b[32m-> \u001b[39m\u001b[32m1119\u001b[39m num_inserted = \u001b[43mexec_insert\u001b[49m\u001b[43m(\u001b[49m\u001b[43mconn\u001b[49m\u001b[43m,\u001b[49m\u001b[43m \u001b[49m\u001b[43mkeys\u001b[49m\u001b[43m,\u001b[49m\u001b[43m \u001b[49m\u001b[43mchunk_iter\u001b[49m\u001b[43m)\u001b[49m\n\u001b[32m   1120\u001b[39m \u001b[38;5;66;03m# GH 46891\u001b[39;00m\n\u001b[32m   1121\u001b[39m \u001b[38;5;28;01mif\u001b[39;00m num_inserted \u001b[38;5;129;01mis\u001b[39;00m \u001b[38;5;129;01mnot\u001b[39;00m \u001b[38;5;28;01mNone\u001b[39;00m:\n",
      "\u001b[36mFile \u001b[39m\u001b[32m~\\AppData\\Local\\Packages\\PythonSoftwareFoundation.Python.3.11_qbz5n2kfra8p0\\LocalCache\\local-packages\\Python311\\site-packages\\pandas\\io\\sql.py:2547\u001b[39m, in \u001b[36mSQLiteTable._execute_insert\u001b[39m\u001b[34m(self, conn, keys, data_iter)\u001b[39m\n\u001b[32m   2545\u001b[39m \u001b[38;5;28;01mdef\u001b[39;00m\u001b[38;5;250m \u001b[39m\u001b[34m_execute_insert\u001b[39m(\u001b[38;5;28mself\u001b[39m, conn, keys, data_iter) -> \u001b[38;5;28mint\u001b[39m:\n\u001b[32m   2546\u001b[39m     data_list = \u001b[38;5;28mlist\u001b[39m(data_iter)\n\u001b[32m-> \u001b[39m\u001b[32m2547\u001b[39m     \u001b[43mconn\u001b[49m\u001b[43m.\u001b[49m\u001b[43mexecutemany\u001b[49m\u001b[43m(\u001b[49m\u001b[38;5;28;43mself\u001b[39;49m\u001b[43m.\u001b[49m\u001b[43minsert_statement\u001b[49m\u001b[43m(\u001b[49m\u001b[43mnum_rows\u001b[49m\u001b[43m=\u001b[49m\u001b[32;43m1\u001b[39;49m\u001b[43m)\u001b[49m\u001b[43m,\u001b[49m\u001b[43m \u001b[49m\u001b[43mdata_list\u001b[49m\u001b[43m)\u001b[49m\n\u001b[32m   2548\u001b[39m     \u001b[38;5;28;01mreturn\u001b[39;00m conn.rowcount\n",
      "\u001b[31mProgrammingError\u001b[39m: Error binding parameter 6: type 'dict' is not supported"
     ]
    }
   ],
   "source": [
    "url = 'https://population.un.org/dataportalapi/api/v1/locais'\n",
    "response = requests.get(url)\n",
    "\n",
    "if response.status_code == 200:\n",
    "    membros_onu = response.json()\n",
    "    df_membros = pd.DataFrame(membros_onu['data'])\n",
    "    df_membros = df_membros[['name']]  # Seleciona apenas a coluna 'name'\n",
    "# Conectar ao banco de dados\n",
    "conn = sqlite3.connect(db_path)\n",
    "\n",
    "# Criar a tabela transitória\n",
    "df_membros.to_sql('membros_transitorio', conn, if_exists='replace', index=False)\n",
    "\n",
    "print(\"Tabela transitória 'membros_transitorio' criada com sucesso.\")\n",
    "\n",
    "conn.close()"
   ]
  },
  {
   "cell_type": "markdown",
   "metadata": {},
   "source": [
    "## A NAME corresponde aos dados que nos falta:\n",
    "\n",
    "**`name`**"
   ]
  },
  {
   "cell_type": "code",
   "execution_count": 32,
   "metadata": {},
   "outputs": [
    {
     "data": {
      "text/plain": [
       "0      Afghanistan\n",
       "1          Albania\n",
       "2          Algeria\n",
       "3          Andorra\n",
       "4           Angola\n",
       "          ...     \n",
       "181      Venezuela\n",
       "182        Vietnam\n",
       "183          Yemen\n",
       "184         Zambia\n",
       "185       Zimbabwe\n",
       "Name: name, Length: 186, dtype: object"
      ]
     },
     "execution_count": 32,
     "metadata": {},
     "output_type": "execute_result"
    }
   ],
   "source": [
    "coluna_nome = df_membros['name']\n",
    "coluna_nome\n"
   ]
  },
  {
   "cell_type": "code",
   "execution_count": 33,
   "metadata": {},
   "outputs": [],
   "source": [
    "db_path = os.path.join(endereco_base, \"dados_analise.db\")\n",
    "\n",
    "nome_tabela_onu = \"onu\""
   ]
  },
  {
   "cell_type": "code",
   "execution_count": 34,
   "metadata": {},
   "outputs": [],
   "source": [
    "conn = sqlite3.connect(db_path)\n",
    "cursor = conn.cursor()\n",
    "\n",
    "cursor.execute(f\"SELECT name FROM sqlite_master WHERE type='table' AND name='{nome_tabela_onu}';\")\n",
    "\n",
    "table_exists = cursor.fetchone()\n",
    "df_dados_onu = pd.read_sql_query(f\"SELECT * FROM {nome_tabela_onu}\", conn)\n",
    "conn.close()    \n"
   ]
  },
  {
   "cell_type": "code",
   "execution_count": 35,
   "metadata": {},
   "outputs": [
    {
     "name": "stdout",
     "output_type": "stream",
     "text": [
      "Nome Comum\n",
      "Nome Oficial\n",
      "Código Alpha-2\n",
      "Capital\n",
      "População\n",
      "Área\n",
      "Continente\n",
      "Independente\n",
      "Membro da ONU\n",
      "Status\n"
     ]
    }
   ],
   "source": [
    "nome_tabela = \"onu\"\n",
    "conn = sqlite3.connect(db_path)\n",
    "cursor = conn.cursor()\n",
    "cursor.execute(f\"PRAGMA table_info({nome_tabela});\")\n",
    "columns_info = cursor.fetchall()\n",
    "for column in columns_info:\n",
    "    print(column[1])"
   ]
  },
  {
   "cell_type": "code",
   "execution_count": 36,
   "metadata": {},
   "outputs": [],
   "source": [
    "nome_nova_coluna = 'paises_membros_da_ONU'\n",
    "df_onu[nome_nova_coluna] = coluna_nome"
   ]
  },
  {
   "cell_type": "code",
   "execution_count": 37,
   "metadata": {},
   "outputs": [
    {
     "data": {
      "text/html": [
       "<div>\n",
       "<style scoped>\n",
       "    .dataframe tbody tr th:only-of-type {\n",
       "        vertical-align: middle;\n",
       "    }\n",
       "\n",
       "    .dataframe tbody tr th {\n",
       "        vertical-align: top;\n",
       "    }\n",
       "\n",
       "    .dataframe thead th {\n",
       "        text-align: right;\n",
       "    }\n",
       "</style>\n",
       "<table border=\"1\" class=\"dataframe\">\n",
       "  <thead>\n",
       "    <tr style=\"text-align: right;\">\n",
       "      <th></th>\n",
       "      <th>Nome Comum</th>\n",
       "      <th>Nome Oficial</th>\n",
       "      <th>Código Alpha-2</th>\n",
       "      <th>Capital</th>\n",
       "      <th>População</th>\n",
       "      <th>Área</th>\n",
       "      <th>Continente</th>\n",
       "      <th>Independente</th>\n",
       "      <th>Membro da ONU</th>\n",
       "      <th>Status</th>\n",
       "      <th>paises_membros_da_ONU</th>\n",
       "    </tr>\n",
       "  </thead>\n",
       "  <tbody>\n",
       "    <tr>\n",
       "      <th>0</th>\n",
       "      <td>Afghanistan</td>\n",
       "      <td>Islamic Republic of Afghanistan</td>\n",
       "      <td>AF</td>\n",
       "      <td>Kabul</td>\n",
       "      <td>39,306,195</td>\n",
       "      <td>652,000 km²</td>\n",
       "      <td>Asia</td>\n",
       "      <td>None</td>\n",
       "      <td>None</td>\n",
       "      <td>None</td>\n",
       "      <td>Afghanistan</td>\n",
       "    </tr>\n",
       "    <tr>\n",
       "      <th>1</th>\n",
       "      <td>Albania</td>\n",
       "      <td>Republic of Albania | Shqipëria</td>\n",
       "      <td>AL</td>\n",
       "      <td>Tirana</td>\n",
       "      <td>2,876,490</td>\n",
       "      <td>28,748 km²</td>\n",
       "      <td>Europe</td>\n",
       "      <td>None</td>\n",
       "      <td>None</td>\n",
       "      <td>None</td>\n",
       "      <td>Albania</td>\n",
       "    </tr>\n",
       "    <tr>\n",
       "      <th>2</th>\n",
       "      <td>Algeria</td>\n",
       "      <td>Democratic Republic of Algeria</td>\n",
       "      <td>DZ</td>\n",
       "      <td>Algiers</td>\n",
       "      <td>44,190,030</td>\n",
       "      <td>2,381,741 km²</td>\n",
       "      <td>Africa</td>\n",
       "      <td>None</td>\n",
       "      <td>None</td>\n",
       "      <td>None</td>\n",
       "      <td>Algeria</td>\n",
       "    </tr>\n",
       "    <tr>\n",
       "      <th>3</th>\n",
       "      <td>Andorra</td>\n",
       "      <td>Principality of Andorra</td>\n",
       "      <td>AD</td>\n",
       "      <td>Andorra la Vella</td>\n",
       "      <td>77,317</td>\n",
       "      <td>468 km²</td>\n",
       "      <td>Europe</td>\n",
       "      <td>None</td>\n",
       "      <td>None</td>\n",
       "      <td>None</td>\n",
       "      <td>Andorra</td>\n",
       "    </tr>\n",
       "    <tr>\n",
       "      <th>4</th>\n",
       "      <td>Angola</td>\n",
       "      <td>Republic of Angola</td>\n",
       "      <td>AO</td>\n",
       "      <td>Luanda</td>\n",
       "      <td>33,312,843</td>\n",
       "      <td>1,246,620 km²</td>\n",
       "      <td>Africa</td>\n",
       "      <td>None</td>\n",
       "      <td>None</td>\n",
       "      <td>None</td>\n",
       "      <td>Angola</td>\n",
       "    </tr>\n",
       "  </tbody>\n",
       "</table>\n",
       "</div>"
      ],
      "text/plain": [
       "    Nome Comum                     Nome Oficial Código Alpha-2  \\\n",
       "0  Afghanistan  Islamic Republic of Afghanistan             AF   \n",
       "1      Albania  Republic of Albania | Shqipëria             AL   \n",
       "2      Algeria   Democratic Republic of Algeria             DZ   \n",
       "3      Andorra          Principality of Andorra             AD   \n",
       "4       Angola               Republic of Angola             AO   \n",
       "\n",
       "            Capital   População           Área Continente Independente  \\\n",
       "0             Kabul  39,306,195    652,000 km²       Asia         None   \n",
       "1            Tirana   2,876,490     28,748 km²     Europe         None   \n",
       "2           Algiers  44,190,030  2,381,741 km²     Africa         None   \n",
       "3  Andorra la Vella      77,317        468 km²     Europe         None   \n",
       "4            Luanda  33,312,843  1,246,620 km²     Africa         None   \n",
       "\n",
       "  Membro da ONU Status paises_membros_da_ONU  \n",
       "0          None   None           Afghanistan  \n",
       "1          None   None               Albania  \n",
       "2          None   None               Algeria  \n",
       "3          None   None               Andorra  \n",
       "4          None   None                Angola  "
      ]
     },
     "execution_count": 37,
     "metadata": {},
     "output_type": "execute_result"
    }
   ],
   "source": [
    "df_onu.head()"
   ]
  },
  {
   "cell_type": "code",
   "execution_count": 38,
   "metadata": {},
   "outputs": [
    {
     "data": {
      "text/plain": [
       "Index(['Nome Comum', 'Nome Oficial', 'Código Alpha-2', 'Capital', 'População',\n",
       "       'Área', 'Continente', 'Independente', 'Membro da ONU', 'Status',\n",
       "       'paises_membros_da_ONU'],\n",
       "      dtype='object')"
      ]
     },
     "execution_count": 38,
     "metadata": {},
     "output_type": "execute_result"
    }
   ],
   "source": [
    "df_onu.columns"
   ]
  },
  {
   "cell_type": "code",
   "execution_count": null,
   "metadata": {},
   "outputs": [
    {
     "ename": "DatabaseError",
     "evalue": "Execution failed on sql '\n    SELECT \n        onu.*, \n        CASE \n            WHEN membros.name IS NOT NULL THEN 'YES' \n            ELSE 'NO' \n        END AS 'Membro da ONU'\n    FROM onu\n    LEFT JOIN membros_onu AS membros\n    ON onu.[Nome Comum] = membros.name\n': no such table: membros_onu",
     "output_type": "error",
     "traceback": [
      "\u001b[31m---------------------------------------------------------------------------\u001b[39m",
      "\u001b[31mOperationalError\u001b[39m                          Traceback (most recent call last)",
      "\u001b[36mFile \u001b[39m\u001b[32m~\\AppData\\Local\\Packages\\PythonSoftwareFoundation.Python.3.11_qbz5n2kfra8p0\\LocalCache\\local-packages\\Python311\\site-packages\\pandas\\io\\sql.py:2674\u001b[39m, in \u001b[36mSQLiteDatabase.execute\u001b[39m\u001b[34m(self, sql, params)\u001b[39m\n\u001b[32m   2673\u001b[39m \u001b[38;5;28;01mtry\u001b[39;00m:\n\u001b[32m-> \u001b[39m\u001b[32m2674\u001b[39m     \u001b[43mcur\u001b[49m\u001b[43m.\u001b[49m\u001b[43mexecute\u001b[49m\u001b[43m(\u001b[49m\u001b[43msql\u001b[49m\u001b[43m,\u001b[49m\u001b[43m \u001b[49m\u001b[43m*\u001b[49m\u001b[43margs\u001b[49m\u001b[43m)\u001b[49m\n\u001b[32m   2675\u001b[39m     \u001b[38;5;28;01mreturn\u001b[39;00m cur\n",
      "\u001b[31mOperationalError\u001b[39m: no such table: membros_onu",
      "\nThe above exception was the direct cause of the following exception:\n",
      "\u001b[31mDatabaseError\u001b[39m                             Traceback (most recent call last)",
      "\u001b[36mCell\u001b[39m\u001b[36m \u001b[39m\u001b[32mIn[41]\u001b[39m\u001b[32m, line 17\u001b[39m\n\u001b[32m      4\u001b[39m query = \u001b[33m\"\"\"\u001b[39m\n\u001b[32m      5\u001b[39m \u001b[33m    SELECT \u001b[39m\n\u001b[32m      6\u001b[39m \u001b[33m        onu.*, \u001b[39m\n\u001b[32m   (...)\u001b[39m\u001b[32m     13\u001b[39m \u001b[33m    ON onu.[Nome Comum] = membros.name\u001b[39m\n\u001b[32m     14\u001b[39m \u001b[33m\"\"\"\u001b[39m\n\u001b[32m     16\u001b[39m \u001b[38;5;66;03m# Executa a query e carrega o resultado em um DataFrame\u001b[39;00m\n\u001b[32m---> \u001b[39m\u001b[32m17\u001b[39m df_onu = \u001b[43mpd\u001b[49m\u001b[43m.\u001b[49m\u001b[43mread_sql_query\u001b[49m\u001b[43m(\u001b[49m\u001b[43mquery\u001b[49m\u001b[43m,\u001b[49m\u001b[43m \u001b[49m\u001b[43mconn\u001b[49m\u001b[43m)\u001b[49m\n\u001b[32m     19\u001b[39m conn.close()\n\u001b[32m     21\u001b[39m \u001b[38;5;66;03m# Exibe o DataFrame atualizado\u001b[39;00m\n",
      "\u001b[36mFile \u001b[39m\u001b[32m~\\AppData\\Local\\Packages\\PythonSoftwareFoundation.Python.3.11_qbz5n2kfra8p0\\LocalCache\\local-packages\\Python311\\site-packages\\pandas\\io\\sql.py:526\u001b[39m, in \u001b[36mread_sql_query\u001b[39m\u001b[34m(sql, con, index_col, coerce_float, params, parse_dates, chunksize, dtype, dtype_backend)\u001b[39m\n\u001b[32m    523\u001b[39m \u001b[38;5;28;01massert\u001b[39;00m dtype_backend \u001b[38;5;129;01mis\u001b[39;00m \u001b[38;5;129;01mnot\u001b[39;00m lib.no_default\n\u001b[32m    525\u001b[39m \u001b[38;5;28;01mwith\u001b[39;00m pandasSQL_builder(con) \u001b[38;5;28;01mas\u001b[39;00m pandas_sql:\n\u001b[32m--> \u001b[39m\u001b[32m526\u001b[39m     \u001b[38;5;28;01mreturn\u001b[39;00m \u001b[43mpandas_sql\u001b[49m\u001b[43m.\u001b[49m\u001b[43mread_query\u001b[49m\u001b[43m(\u001b[49m\n\u001b[32m    527\u001b[39m \u001b[43m        \u001b[49m\u001b[43msql\u001b[49m\u001b[43m,\u001b[49m\n\u001b[32m    528\u001b[39m \u001b[43m        \u001b[49m\u001b[43mindex_col\u001b[49m\u001b[43m=\u001b[49m\u001b[43mindex_col\u001b[49m\u001b[43m,\u001b[49m\n\u001b[32m    529\u001b[39m \u001b[43m        \u001b[49m\u001b[43mparams\u001b[49m\u001b[43m=\u001b[49m\u001b[43mparams\u001b[49m\u001b[43m,\u001b[49m\n\u001b[32m    530\u001b[39m \u001b[43m        \u001b[49m\u001b[43mcoerce_float\u001b[49m\u001b[43m=\u001b[49m\u001b[43mcoerce_float\u001b[49m\u001b[43m,\u001b[49m\n\u001b[32m    531\u001b[39m \u001b[43m        \u001b[49m\u001b[43mparse_dates\u001b[49m\u001b[43m=\u001b[49m\u001b[43mparse_dates\u001b[49m\u001b[43m,\u001b[49m\n\u001b[32m    532\u001b[39m \u001b[43m        \u001b[49m\u001b[43mchunksize\u001b[49m\u001b[43m=\u001b[49m\u001b[43mchunksize\u001b[49m\u001b[43m,\u001b[49m\n\u001b[32m    533\u001b[39m \u001b[43m        \u001b[49m\u001b[43mdtype\u001b[49m\u001b[43m=\u001b[49m\u001b[43mdtype\u001b[49m\u001b[43m,\u001b[49m\n\u001b[32m    534\u001b[39m \u001b[43m        \u001b[49m\u001b[43mdtype_backend\u001b[49m\u001b[43m=\u001b[49m\u001b[43mdtype_backend\u001b[49m\u001b[43m,\u001b[49m\n\u001b[32m    535\u001b[39m \u001b[43m    \u001b[49m\u001b[43m)\u001b[49m\n",
      "\u001b[36mFile \u001b[39m\u001b[32m~\\AppData\\Local\\Packages\\PythonSoftwareFoundation.Python.3.11_qbz5n2kfra8p0\\LocalCache\\local-packages\\Python311\\site-packages\\pandas\\io\\sql.py:2738\u001b[39m, in \u001b[36mSQLiteDatabase.read_query\u001b[39m\u001b[34m(self, sql, index_col, coerce_float, parse_dates, params, chunksize, dtype, dtype_backend)\u001b[39m\n\u001b[32m   2727\u001b[39m \u001b[38;5;28;01mdef\u001b[39;00m\u001b[38;5;250m \u001b[39m\u001b[34mread_query\u001b[39m(\n\u001b[32m   2728\u001b[39m     \u001b[38;5;28mself\u001b[39m,\n\u001b[32m   2729\u001b[39m     sql,\n\u001b[32m   (...)\u001b[39m\u001b[32m   2736\u001b[39m     dtype_backend: DtypeBackend | Literal[\u001b[33m\"\u001b[39m\u001b[33mnumpy\u001b[39m\u001b[33m\"\u001b[39m] = \u001b[33m\"\u001b[39m\u001b[33mnumpy\u001b[39m\u001b[33m\"\u001b[39m,\n\u001b[32m   2737\u001b[39m ) -> DataFrame | Iterator[DataFrame]:\n\u001b[32m-> \u001b[39m\u001b[32m2738\u001b[39m     cursor = \u001b[38;5;28;43mself\u001b[39;49m\u001b[43m.\u001b[49m\u001b[43mexecute\u001b[49m\u001b[43m(\u001b[49m\u001b[43msql\u001b[49m\u001b[43m,\u001b[49m\u001b[43m \u001b[49m\u001b[43mparams\u001b[49m\u001b[43m)\u001b[49m\n\u001b[32m   2739\u001b[39m     columns = [col_desc[\u001b[32m0\u001b[39m] \u001b[38;5;28;01mfor\u001b[39;00m col_desc \u001b[38;5;129;01min\u001b[39;00m cursor.description]\n\u001b[32m   2741\u001b[39m     \u001b[38;5;28;01mif\u001b[39;00m chunksize \u001b[38;5;129;01mis\u001b[39;00m \u001b[38;5;129;01mnot\u001b[39;00m \u001b[38;5;28;01mNone\u001b[39;00m:\n",
      "\u001b[36mFile \u001b[39m\u001b[32m~\\AppData\\Local\\Packages\\PythonSoftwareFoundation.Python.3.11_qbz5n2kfra8p0\\LocalCache\\local-packages\\Python311\\site-packages\\pandas\\io\\sql.py:2686\u001b[39m, in \u001b[36mSQLiteDatabase.execute\u001b[39m\u001b[34m(self, sql, params)\u001b[39m\n\u001b[32m   2683\u001b[39m     \u001b[38;5;28;01mraise\u001b[39;00m ex \u001b[38;5;28;01mfrom\u001b[39;00m\u001b[38;5;250m \u001b[39m\u001b[34;01minner_exc\u001b[39;00m\n\u001b[32m   2685\u001b[39m ex = DatabaseError(\u001b[33mf\u001b[39m\u001b[33m\"\u001b[39m\u001b[33mExecution failed on sql \u001b[39m\u001b[33m'\u001b[39m\u001b[38;5;132;01m{\u001b[39;00msql\u001b[38;5;132;01m}\u001b[39;00m\u001b[33m'\u001b[39m\u001b[33m: \u001b[39m\u001b[38;5;132;01m{\u001b[39;00mexc\u001b[38;5;132;01m}\u001b[39;00m\u001b[33m\"\u001b[39m)\n\u001b[32m-> \u001b[39m\u001b[32m2686\u001b[39m \u001b[38;5;28;01mraise\u001b[39;00m ex \u001b[38;5;28;01mfrom\u001b[39;00m\u001b[38;5;250m \u001b[39m\u001b[34;01mexc\u001b[39;00m\n",
      "\u001b[31mDatabaseError\u001b[39m: Execution failed on sql '\n    SELECT \n        onu.*, \n        CASE \n            WHEN membros.name IS NOT NULL THEN 'YES' \n            ELSE 'NO' \n        END AS 'Membro da ONU'\n    FROM onu\n    LEFT JOIN membros_onu AS membros\n    ON onu.[Nome Comum] = membros.name\n': no such table: membros_onu"
     ]
    }
   ],
   "source": [
    "nome_coluna_paises_membros = 'paises_membros_da_ONU'\n",
    "nome_coluna_nome_comum = 'Nome Comum'\n",
    "nome_coluna_membro_onu = 'Membro da ONU'\n",
    "\n",
    "# Iterar sobre cada linha do DataFrame\n",
    "for index, row in df_onu.iterrows():\n",
    "    nome_comum = row[nome_coluna_nome_comum]\n",
    "    string_paises_membros = row[nome_coluna_paises_membros]\n",
    "\n",
    "    # Verificar se o nome comum aparece como substring na string de países membros\n",
    "    if isinstance(string_paises_membros, str) and nome_comum in string_paises_membros:\n",
    "        df_onu.loc[index, nome_coluna_membro_onu] = 'YES'\n",
    "    else:\n",
    "        df_onu.loc[index, nome_coluna_membro_onu] = 'NO'"
   ]
  },
  {
   "cell_type": "code",
   "execution_count": null,
   "metadata": {},
   "outputs": [
    {
     "data": {
      "text/html": [
       "<div>\n",
       "<style scoped>\n",
       "    .dataframe tbody tr th:only-of-type {\n",
       "        vertical-align: middle;\n",
       "    }\n",
       "\n",
       "    .dataframe tbody tr th {\n",
       "        vertical-align: top;\n",
       "    }\n",
       "\n",
       "    .dataframe thead th {\n",
       "        text-align: right;\n",
       "    }\n",
       "</style>\n",
       "<table border=\"1\" class=\"dataframe\">\n",
       "  <thead>\n",
       "    <tr style=\"text-align: right;\">\n",
       "      <th></th>\n",
       "      <th>Nome Comum</th>\n",
       "      <th>Nome Oficial</th>\n",
       "      <th>Código Alpha-2</th>\n",
       "      <th>Capital</th>\n",
       "      <th>População</th>\n",
       "      <th>Área</th>\n",
       "      <th>Continente</th>\n",
       "      <th>Independente</th>\n",
       "      <th>Membro da ONU</th>\n",
       "      <th>Status</th>\n",
       "    </tr>\n",
       "  </thead>\n",
       "  <tbody>\n",
       "    <tr>\n",
       "      <th>0</th>\n",
       "      <td>Afghanistan</td>\n",
       "      <td>Islamic Republic of Afghanistan</td>\n",
       "      <td>AF</td>\n",
       "      <td>Kabul</td>\n",
       "      <td>39,306,195</td>\n",
       "      <td>652,000 km²</td>\n",
       "      <td>Asia</td>\n",
       "      <td>None</td>\n",
       "      <td>None</td>\n",
       "      <td>None</td>\n",
       "    </tr>\n",
       "    <tr>\n",
       "      <th>1</th>\n",
       "      <td>Albania</td>\n",
       "      <td>Republic of Albania | Shqipëria</td>\n",
       "      <td>AL</td>\n",
       "      <td>Tirana</td>\n",
       "      <td>2,876,490</td>\n",
       "      <td>28,748 km²</td>\n",
       "      <td>Europe</td>\n",
       "      <td>None</td>\n",
       "      <td>None</td>\n",
       "      <td>None</td>\n",
       "    </tr>\n",
       "    <tr>\n",
       "      <th>2</th>\n",
       "      <td>Algeria</td>\n",
       "      <td>Democratic Republic of Algeria</td>\n",
       "      <td>DZ</td>\n",
       "      <td>Algiers</td>\n",
       "      <td>44,190,030</td>\n",
       "      <td>2,381,741 km²</td>\n",
       "      <td>Africa</td>\n",
       "      <td>None</td>\n",
       "      <td>None</td>\n",
       "      <td>None</td>\n",
       "    </tr>\n",
       "    <tr>\n",
       "      <th>3</th>\n",
       "      <td>Andorra</td>\n",
       "      <td>Principality of Andorra</td>\n",
       "      <td>AD</td>\n",
       "      <td>Andorra la Vella</td>\n",
       "      <td>77,317</td>\n",
       "      <td>468 km²</td>\n",
       "      <td>Europe</td>\n",
       "      <td>None</td>\n",
       "      <td>None</td>\n",
       "      <td>None</td>\n",
       "    </tr>\n",
       "    <tr>\n",
       "      <th>4</th>\n",
       "      <td>Angola</td>\n",
       "      <td>Republic of Angola</td>\n",
       "      <td>AO</td>\n",
       "      <td>Luanda</td>\n",
       "      <td>33,312,843</td>\n",
       "      <td>1,246,620 km²</td>\n",
       "      <td>Africa</td>\n",
       "      <td>None</td>\n",
       "      <td>None</td>\n",
       "      <td>None</td>\n",
       "    </tr>\n",
       "  </tbody>\n",
       "</table>\n",
       "</div>"
      ],
      "text/plain": [
       "    Nome Comum                     Nome Oficial Código Alpha-2  \\\n",
       "0  Afghanistan  Islamic Republic of Afghanistan             AF   \n",
       "1      Albania  Republic of Albania | Shqipëria             AL   \n",
       "2      Algeria   Democratic Republic of Algeria             DZ   \n",
       "3      Andorra          Principality of Andorra             AD   \n",
       "4       Angola               Republic of Angola             AO   \n",
       "\n",
       "            Capital   População           Área Continente Independente  \\\n",
       "0             Kabul  39,306,195    652,000 km²       Asia         None   \n",
       "1            Tirana   2,876,490     28,748 km²     Europe         None   \n",
       "2           Algiers  44,190,030  2,381,741 km²     Africa         None   \n",
       "3  Andorra la Vella      77,317        468 km²     Europe         None   \n",
       "4            Luanda  33,312,843  1,246,620 km²     Africa         None   \n",
       "\n",
       "  Membro da ONU Status  \n",
       "0          None   None  \n",
       "1          None   None  \n",
       "2          None   None  \n",
       "3          None   None  \n",
       "4          None   None  "
      ]
     },
     "execution_count": 119,
     "metadata": {},
     "output_type": "execute_result"
    }
   ],
   "source": [
    "df_onu.head()"
   ]
  },
  {
   "cell_type": "code",
   "execution_count": null,
   "metadata": {},
   "outputs": [
    {
     "data": {
      "text/html": [
       "<div>\n",
       "<style scoped>\n",
       "    .dataframe tbody tr th:only-of-type {\n",
       "        vertical-align: middle;\n",
       "    }\n",
       "\n",
       "    .dataframe tbody tr th {\n",
       "        vertical-align: top;\n",
       "    }\n",
       "\n",
       "    .dataframe thead th {\n",
       "        text-align: right;\n",
       "    }\n",
       "</style>\n",
       "<table border=\"1\" class=\"dataframe\">\n",
       "  <thead>\n",
       "    <tr style=\"text-align: right;\">\n",
       "      <th></th>\n",
       "      <th>Nome Comum</th>\n",
       "      <th>Nome Oficial</th>\n",
       "      <th>Código Alpha-2</th>\n",
       "      <th>Capital</th>\n",
       "      <th>População</th>\n",
       "      <th>Área</th>\n",
       "      <th>Continente</th>\n",
       "      <th>Independente</th>\n",
       "      <th>Membro da ONU</th>\n",
       "      <th>Status</th>\n",
       "    </tr>\n",
       "  </thead>\n",
       "  <tbody>\n",
       "    <tr>\n",
       "      <th>181</th>\n",
       "      <td>Venezuela</td>\n",
       "      <td>Bolivarian Republic of Venezuela</td>\n",
       "      <td>VE</td>\n",
       "      <td>Caracas</td>\n",
       "      <td>28,402,272</td>\n",
       "      <td>916,445 km²</td>\n",
       "      <td>South America</td>\n",
       "      <td>None</td>\n",
       "      <td>None</td>\n",
       "      <td>None</td>\n",
       "    </tr>\n",
       "    <tr>\n",
       "      <th>182</th>\n",
       "      <td>Vietnam</td>\n",
       "      <td>Socialist Republic of Vietnam</td>\n",
       "      <td>VN</td>\n",
       "      <td>Hanoi</td>\n",
       "      <td>97,702,766</td>\n",
       "      <td>331,212 km²</td>\n",
       "      <td>Asia</td>\n",
       "      <td>None</td>\n",
       "      <td>None</td>\n",
       "      <td>None</td>\n",
       "    </tr>\n",
       "    <tr>\n",
       "      <th>183</th>\n",
       "      <td>Yemen</td>\n",
       "      <td>Republic of Yemen</td>\n",
       "      <td>YE</td>\n",
       "      <td>Sanaa</td>\n",
       "      <td>30,110,883</td>\n",
       "      <td>527,968 km²</td>\n",
       "      <td>Asia</td>\n",
       "      <td>None</td>\n",
       "      <td>None</td>\n",
       "      <td>None</td>\n",
       "    </tr>\n",
       "    <tr>\n",
       "      <th>184</th>\n",
       "      <td>Zambia</td>\n",
       "      <td>Republic of Zambia</td>\n",
       "      <td>ZM</td>\n",
       "      <td>Lusaka</td>\n",
       "      <td>18,609,335</td>\n",
       "      <td>752,618 km²</td>\n",
       "      <td>Africa</td>\n",
       "      <td>None</td>\n",
       "      <td>None</td>\n",
       "      <td>None</td>\n",
       "    </tr>\n",
       "    <tr>\n",
       "      <th>185</th>\n",
       "      <td>Zimbabwe</td>\n",
       "      <td>Republic of Zimbabwe</td>\n",
       "      <td>ZW</td>\n",
       "      <td>Harare</td>\n",
       "      <td>14,955,711</td>\n",
       "      <td>390,757 km²</td>\n",
       "      <td>Africa</td>\n",
       "      <td>None</td>\n",
       "      <td>None</td>\n",
       "      <td>None</td>\n",
       "    </tr>\n",
       "  </tbody>\n",
       "</table>\n",
       "</div>"
      ],
      "text/plain": [
       "    Nome Comum                      Nome Oficial Código Alpha-2  Capital  \\\n",
       "181  Venezuela  Bolivarian Republic of Venezuela             VE  Caracas   \n",
       "182    Vietnam     Socialist Republic of Vietnam             VN    Hanoi   \n",
       "183      Yemen                 Republic of Yemen             YE    Sanaa   \n",
       "184     Zambia                Republic of Zambia             ZM   Lusaka   \n",
       "185   Zimbabwe              Republic of Zimbabwe             ZW   Harare   \n",
       "\n",
       "      População         Área     Continente Independente Membro da ONU Status  \n",
       "181  28,402,272  916,445 km²  South America         None          None   None  \n",
       "182  97,702,766  331,212 km²           Asia         None          None   None  \n",
       "183  30,110,883  527,968 km²           Asia         None          None   None  \n",
       "184  18,609,335  752,618 km²         Africa         None          None   None  \n",
       "185  14,955,711  390,757 km²         Africa         None          None   None  "
      ]
     },
     "execution_count": 120,
     "metadata": {},
     "output_type": "execute_result"
    }
   ],
   "source": [
    "df_onu.tail()"
   ]
  },
  {
   "cell_type": "code",
   "execution_count": null,
   "metadata": {},
   "outputs": [
    {
     "name": "stdout",
     "output_type": "stream",
     "text": [
      "Colunas 'Independente, Status, paises_membros_da_ONU' excluídas da tabela 'onu' no banco de dados.\n"
     ]
    }
   ],
   "source": [
    "nome_tabela_onu = \"onu\"\n",
    "colunas_para_excluir = ['Independente', 'Status', 'paises_membros_da_ONU']\n",
    "conn = sqlite3.connect(db_path)\n",
    "df_onu = pd.read_sql_query(f\"SELECT * FROM {nome_tabela_onu}\", conn)\n",
    "df_onu = df_onu.drop(columns=colunas_para_excluir, axis=1, errors='ignore')\n",
    "df_onu.to_sql(nome_tabela_onu, conn, if_exists='replace', index=False)\n",
    "print(f\"Colunas '{', '.join(colunas_para_excluir)}' excluídas da tabela '{nome_tabela_onu}' no banco de dados.\")\n"
   ]
  },
  {
   "cell_type": "code",
   "execution_count": null,
   "metadata": {},
   "outputs": [
    {
     "data": {
      "text/plain": [
       "Index(['Nome Comum', 'Nome Oficial', 'Código Alpha-2', 'Capital', 'População',\n",
       "       'Área', 'Continente', 'Membro da ONU'],\n",
       "      dtype='object')"
      ]
     },
     "execution_count": 123,
     "metadata": {},
     "output_type": "execute_result"
    }
   ],
   "source": [
    "df_onu.columns"
   ]
  },
  {
   "cell_type": "code",
   "execution_count": null,
   "metadata": {},
   "outputs": [
    {
     "data": {
      "text/html": [
       "<div>\n",
       "<style scoped>\n",
       "    .dataframe tbody tr th:only-of-type {\n",
       "        vertical-align: middle;\n",
       "    }\n",
       "\n",
       "    .dataframe tbody tr th {\n",
       "        vertical-align: top;\n",
       "    }\n",
       "\n",
       "    .dataframe thead th {\n",
       "        text-align: right;\n",
       "    }\n",
       "</style>\n",
       "<table border=\"1\" class=\"dataframe\">\n",
       "  <thead>\n",
       "    <tr style=\"text-align: right;\">\n",
       "      <th></th>\n",
       "      <th>Nome Comum</th>\n",
       "      <th>Nome Oficial</th>\n",
       "      <th>Código Alpha-2</th>\n",
       "      <th>Capital</th>\n",
       "      <th>População</th>\n",
       "      <th>Área</th>\n",
       "      <th>Continente</th>\n",
       "      <th>Membro da ONU</th>\n",
       "    </tr>\n",
       "  </thead>\n",
       "  <tbody>\n",
       "    <tr>\n",
       "      <th>0</th>\n",
       "      <td>Afghanistan</td>\n",
       "      <td>Islamic Republic of Afghanistan</td>\n",
       "      <td>AF</td>\n",
       "      <td>Kabul</td>\n",
       "      <td>39,306,195</td>\n",
       "      <td>652,000 km²</td>\n",
       "      <td>Asia</td>\n",
       "      <td>None</td>\n",
       "    </tr>\n",
       "    <tr>\n",
       "      <th>1</th>\n",
       "      <td>Albania</td>\n",
       "      <td>Republic of Albania | Shqipëria</td>\n",
       "      <td>AL</td>\n",
       "      <td>Tirana</td>\n",
       "      <td>2,876,490</td>\n",
       "      <td>28,748 km²</td>\n",
       "      <td>Europe</td>\n",
       "      <td>None</td>\n",
       "    </tr>\n",
       "    <tr>\n",
       "      <th>2</th>\n",
       "      <td>Algeria</td>\n",
       "      <td>Democratic Republic of Algeria</td>\n",
       "      <td>DZ</td>\n",
       "      <td>Algiers</td>\n",
       "      <td>44,190,030</td>\n",
       "      <td>2,381,741 km²</td>\n",
       "      <td>Africa</td>\n",
       "      <td>None</td>\n",
       "    </tr>\n",
       "    <tr>\n",
       "      <th>3</th>\n",
       "      <td>Andorra</td>\n",
       "      <td>Principality of Andorra</td>\n",
       "      <td>AD</td>\n",
       "      <td>Andorra la Vella</td>\n",
       "      <td>77,317</td>\n",
       "      <td>468 km²</td>\n",
       "      <td>Europe</td>\n",
       "      <td>None</td>\n",
       "    </tr>\n",
       "    <tr>\n",
       "      <th>4</th>\n",
       "      <td>Angola</td>\n",
       "      <td>Republic of Angola</td>\n",
       "      <td>AO</td>\n",
       "      <td>Luanda</td>\n",
       "      <td>33,312,843</td>\n",
       "      <td>1,246,620 km²</td>\n",
       "      <td>Africa</td>\n",
       "      <td>None</td>\n",
       "    </tr>\n",
       "  </tbody>\n",
       "</table>\n",
       "</div>"
      ],
      "text/plain": [
       "    Nome Comum                     Nome Oficial Código Alpha-2  \\\n",
       "0  Afghanistan  Islamic Republic of Afghanistan             AF   \n",
       "1      Albania  Republic of Albania | Shqipëria             AL   \n",
       "2      Algeria   Democratic Republic of Algeria             DZ   \n",
       "3      Andorra          Principality of Andorra             AD   \n",
       "4       Angola               Republic of Angola             AO   \n",
       "\n",
       "            Capital   População           Área Continente Membro da ONU  \n",
       "0             Kabul  39,306,195    652,000 km²       Asia          None  \n",
       "1            Tirana   2,876,490     28,748 km²     Europe          None  \n",
       "2           Algiers  44,190,030  2,381,741 km²     Africa          None  \n",
       "3  Andorra la Vella      77,317        468 km²     Europe          None  \n",
       "4            Luanda  33,312,843  1,246,620 km²     Africa          None  "
      ]
     },
     "execution_count": 124,
     "metadata": {},
     "output_type": "execute_result"
    }
   ],
   "source": [
    "df_onu.head()"
   ]
  }
 ],
 "metadata": {
  "kernelspec": {
   "display_name": "Python 3",
   "language": "python",
   "name": "python3"
  },
  "language_info": {
   "codemirror_mode": {
    "name": "ipython",
    "version": 3
   },
   "file_extension": ".py",
   "mimetype": "text/x-python",
   "name": "python",
   "nbconvert_exporter": "python",
   "pygments_lexer": "ipython3",
   "version": "3.11.9"
  }
 },
 "nbformat": 4,
 "nbformat_minor": 2
}
